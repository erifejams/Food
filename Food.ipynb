{
 "cells": [
  {
   "cell_type": "markdown",
   "id": "b0ee3ffc",
   "metadata": {},
   "source": [
    "Project Name: Food (Number 2) <br>\n",
    "Dataset Num: 21<br>\n",
    "Team Members: Erifeoluwa Jamgbadi and Yazdani Mehrazin\n"
   ]
  },
  {
   "cell_type": "code",
   "execution_count": 67,
   "id": "fc8d49a3",
   "metadata": {},
   "outputs": [],
   "source": [
    "##to get the hdbscan to work comment it out after\n",
    "#conda install -c conda-forge hdbscan  "
   ]
  },
  {
   "cell_type": "code",
   "execution_count": 68,
   "id": "5b0d244c",
   "metadata": {},
   "outputs": [],
   "source": [
    "##uncomment and restart kernal if not working\n",
    "##!pip3 install yellowbrick\n",
    "#!pip3 install python3.8-dev\n",
    "#!pip3 install hdbscan\n",
    "#!pip3 install pyclustering\n",
    "\n",
    "#uncomment if the kmeans section is not working on your computer\n",
    "#!pip3 install threadpoolctl==3.1.0 "
   ]
  },
  {
   "cell_type": "code",
   "execution_count": 267,
   "id": "578ac205",
   "metadata": {
    "ExecuteTime": {
     "end_time": "2023-05-30T15:00:21.431911330Z",
     "start_time": "2023-05-30T15:00:21.419396980Z"
    }
   },
   "outputs": [],
   "source": [
    "### import statements\n",
    "\n",
    "import matplotlib.pyplot as plt\n",
    "import numpy as np\n",
    "import pandas as pd\n",
    "import hdbscan\n",
    "import seaborn as sn\n",
    "import time\n",
    "import sklearn.cluster as cluster\n",
    "import warnings\n",
    "warnings.filterwarnings(\"ignore\")\n",
    "\n",
    "from sklearn.preprocessing import StandardScaler\n",
    "from sklearn.cluster import KMeans\n",
    "from sklearn.datasets import make_blobs\n",
    "from sklearn.metrics import silhouette_score\n",
    "\n",
    "from yellowbrick.cluster import KElbowVisualizer\n",
    "from pyclustering.cluster.cure import cure\n",
    "\n"
   ]
  },
  {
   "cell_type": "markdown",
   "id": "2833f1f2",
   "metadata": {},
   "source": [
    "<br>\n",
    "\n",
    "<font size=\"5\"> **Importing and Sorting out data for exploration/analyses**</font>\n",
    "\n",
    "<br>"
   ]
  },
  {
   "cell_type": "code",
   "execution_count": 268,
   "id": "da361085",
   "metadata": {
    "ExecuteTime": {
     "end_time": "2023-05-30T13:52:11.133740442Z",
     "start_time": "2023-05-30T13:52:02.786722270Z"
    }
   },
   "outputs": [],
   "source": [
    "##reading in the dataset\n",
    "data = pd.read_csv('dataset/en.openfoodfacts.org.products.tsv',sep='\\t', dtype='unicode')\n",
    "#data.to_latex(index=False, columns=['code', 'creator', 'created_t','created_datetime', 'nutrition-score-uk_100g'])"
   ]
  },
  {
   "cell_type": "code",
   "execution_count": 269,
   "id": "e419fc08",
   "metadata": {
    "ExecuteTime": {
     "end_time": "2023-05-30T13:52:12.426318495Z",
     "start_time": "2023-05-30T13:52:11.151996740Z"
    }
   },
   "outputs": [
    {
     "data": {
      "text/html": [
       "<div>\n",
       "<style scoped>\n",
       "    .dataframe tbody tr th:only-of-type {\n",
       "        vertical-align: middle;\n",
       "    }\n",
       "\n",
       "    .dataframe tbody tr th {\n",
       "        vertical-align: top;\n",
       "    }\n",
       "\n",
       "    .dataframe thead th {\n",
       "        text-align: right;\n",
       "    }\n",
       "</style>\n",
       "<table border=\"1\" class=\"dataframe\">\n",
       "  <thead>\n",
       "    <tr style=\"text-align: right;\">\n",
       "      <th></th>\n",
       "      <th>code</th>\n",
       "      <th>url</th>\n",
       "      <th>creator</th>\n",
       "      <th>created_t</th>\n",
       "      <th>created_datetime</th>\n",
       "      <th>last_modified_t</th>\n",
       "      <th>last_modified_datetime</th>\n",
       "      <th>product_name</th>\n",
       "      <th>generic_name</th>\n",
       "      <th>quantity</th>\n",
       "      <th>...</th>\n",
       "      <th>caffeine_100g</th>\n",
       "      <th>taurine_100g</th>\n",
       "      <th>ph_100g</th>\n",
       "      <th>fruits-vegetables-nuts_100g</th>\n",
       "      <th>collagen-meat-protein-ratio_100g</th>\n",
       "      <th>cocoa_100g</th>\n",
       "      <th>chlorophyl_100g</th>\n",
       "      <th>carbon-footprint_100g</th>\n",
       "      <th>nutrition-score-fr_100g</th>\n",
       "      <th>nutrition-score-uk_100g</th>\n",
       "    </tr>\n",
       "  </thead>\n",
       "  <tbody>\n",
       "    <tr>\n",
       "      <th>0</th>\n",
       "      <td>0000000024600</td>\n",
       "      <td>http://world-en.openfoodfacts.org/product/0000...</td>\n",
       "      <td>date-limite-app</td>\n",
       "      <td>1434530704</td>\n",
       "      <td>2015-06-17T08:45:04Z</td>\n",
       "      <td>1434535914</td>\n",
       "      <td>2015-06-17T10:11:54Z</td>\n",
       "      <td>Filet de bœuf</td>\n",
       "      <td>NaN</td>\n",
       "      <td>2.46 kg</td>\n",
       "      <td>...</td>\n",
       "      <td>NaN</td>\n",
       "      <td>NaN</td>\n",
       "      <td>NaN</td>\n",
       "      <td>NaN</td>\n",
       "      <td>NaN</td>\n",
       "      <td>NaN</td>\n",
       "      <td>NaN</td>\n",
       "      <td>NaN</td>\n",
       "      <td>NaN</td>\n",
       "      <td>NaN</td>\n",
       "    </tr>\n",
       "    <tr>\n",
       "      <th>1</th>\n",
       "      <td>0000000027205</td>\n",
       "      <td>http://world-en.openfoodfacts.org/product/0000...</td>\n",
       "      <td>tacinte</td>\n",
       "      <td>1458238630</td>\n",
       "      <td>2016-03-17T18:17:10Z</td>\n",
       "      <td>1458238638</td>\n",
       "      <td>2016-03-17T18:17:18Z</td>\n",
       "      <td>NaN</td>\n",
       "      <td>NaN</td>\n",
       "      <td>NaN</td>\n",
       "      <td>...</td>\n",
       "      <td>NaN</td>\n",
       "      <td>NaN</td>\n",
       "      <td>NaN</td>\n",
       "      <td>NaN</td>\n",
       "      <td>NaN</td>\n",
       "      <td>NaN</td>\n",
       "      <td>NaN</td>\n",
       "      <td>NaN</td>\n",
       "      <td>NaN</td>\n",
       "      <td>NaN</td>\n",
       "    </tr>\n",
       "    <tr>\n",
       "      <th>2</th>\n",
       "      <td>0000000036252</td>\n",
       "      <td>http://world-en.openfoodfacts.org/product/0000...</td>\n",
       "      <td>tacinte</td>\n",
       "      <td>1422221701</td>\n",
       "      <td>2015-01-25T21:35:01Z</td>\n",
       "      <td>1422221855</td>\n",
       "      <td>2015-01-25T21:37:35Z</td>\n",
       "      <td>Lion Peanut x2</td>\n",
       "      <td>NaN</td>\n",
       "      <td>NaN</td>\n",
       "      <td>...</td>\n",
       "      <td>NaN</td>\n",
       "      <td>NaN</td>\n",
       "      <td>NaN</td>\n",
       "      <td>NaN</td>\n",
       "      <td>NaN</td>\n",
       "      <td>NaN</td>\n",
       "      <td>NaN</td>\n",
       "      <td>NaN</td>\n",
       "      <td>NaN</td>\n",
       "      <td>NaN</td>\n",
       "    </tr>\n",
       "    <tr>\n",
       "      <th>3</th>\n",
       "      <td>0000000039259</td>\n",
       "      <td>http://world-en.openfoodfacts.org/product/0000...</td>\n",
       "      <td>tacinte</td>\n",
       "      <td>1422221773</td>\n",
       "      <td>2015-01-25T21:36:13Z</td>\n",
       "      <td>1422221926</td>\n",
       "      <td>2015-01-25T21:38:46Z</td>\n",
       "      <td>Twix x2</td>\n",
       "      <td>NaN</td>\n",
       "      <td>NaN</td>\n",
       "      <td>...</td>\n",
       "      <td>NaN</td>\n",
       "      <td>NaN</td>\n",
       "      <td>NaN</td>\n",
       "      <td>NaN</td>\n",
       "      <td>NaN</td>\n",
       "      <td>NaN</td>\n",
       "      <td>NaN</td>\n",
       "      <td>NaN</td>\n",
       "      <td>NaN</td>\n",
       "      <td>NaN</td>\n",
       "    </tr>\n",
       "    <tr>\n",
       "      <th>4</th>\n",
       "      <td>0000000039529</td>\n",
       "      <td>http://world-en.openfoodfacts.org/product/0000...</td>\n",
       "      <td>teolemon</td>\n",
       "      <td>1420147051</td>\n",
       "      <td>2015-01-01T21:17:31Z</td>\n",
       "      <td>1439141740</td>\n",
       "      <td>2015-08-09T17:35:40Z</td>\n",
       "      <td>Pack de 2 Twix</td>\n",
       "      <td>NaN</td>\n",
       "      <td>NaN</td>\n",
       "      <td>...</td>\n",
       "      <td>NaN</td>\n",
       "      <td>NaN</td>\n",
       "      <td>NaN</td>\n",
       "      <td>NaN</td>\n",
       "      <td>NaN</td>\n",
       "      <td>NaN</td>\n",
       "      <td>NaN</td>\n",
       "      <td>NaN</td>\n",
       "      <td>NaN</td>\n",
       "      <td>NaN</td>\n",
       "    </tr>\n",
       "    <tr>\n",
       "      <th>...</th>\n",
       "      <td>...</td>\n",
       "      <td>...</td>\n",
       "      <td>...</td>\n",
       "      <td>...</td>\n",
       "      <td>...</td>\n",
       "      <td>...</td>\n",
       "      <td>...</td>\n",
       "      <td>...</td>\n",
       "      <td>...</td>\n",
       "      <td>...</td>\n",
       "      <td>...</td>\n",
       "      <td>...</td>\n",
       "      <td>...</td>\n",
       "      <td>...</td>\n",
       "      <td>...</td>\n",
       "      <td>...</td>\n",
       "      <td>...</td>\n",
       "      <td>...</td>\n",
       "      <td>...</td>\n",
       "      <td>...</td>\n",
       "      <td>...</td>\n",
       "    </tr>\n",
       "    <tr>\n",
       "      <th>78241</th>\n",
       "      <td>9908278636246</td>\n",
       "      <td>http://world-en.openfoodfacts.org/product/9908...</td>\n",
       "      <td>andre</td>\n",
       "      <td>1360585770</td>\n",
       "      <td>2013-02-11T12:29:30Z</td>\n",
       "      <td>1389960647</td>\n",
       "      <td>2014-01-17T12:10:47Z</td>\n",
       "      <td>Szprot w oleju roslinnym</td>\n",
       "      <td>Sprot</td>\n",
       "      <td>170g</td>\n",
       "      <td>...</td>\n",
       "      <td>NaN</td>\n",
       "      <td>NaN</td>\n",
       "      <td>NaN</td>\n",
       "      <td>NaN</td>\n",
       "      <td>NaN</td>\n",
       "      <td>NaN</td>\n",
       "      <td>NaN</td>\n",
       "      <td>NaN</td>\n",
       "      <td>NaN</td>\n",
       "      <td>NaN</td>\n",
       "    </tr>\n",
       "    <tr>\n",
       "      <th>78242</th>\n",
       "      <td>99111250</td>\n",
       "      <td>http://world-en.openfoodfacts.org/product/9911...</td>\n",
       "      <td>balooval</td>\n",
       "      <td>1367163039</td>\n",
       "      <td>2013-04-28T15:30:39Z</td>\n",
       "      <td>1371690556</td>\n",
       "      <td>2013-06-20T01:09:16Z</td>\n",
       "      <td>Thé vert Earl grey</td>\n",
       "      <td>thé bio équitable</td>\n",
       "      <td>50 g</td>\n",
       "      <td>...</td>\n",
       "      <td>NaN</td>\n",
       "      <td>NaN</td>\n",
       "      <td>NaN</td>\n",
       "      <td>NaN</td>\n",
       "      <td>NaN</td>\n",
       "      <td>NaN</td>\n",
       "      <td>NaN</td>\n",
       "      <td>NaN</td>\n",
       "      <td>2</td>\n",
       "      <td>0</td>\n",
       "    </tr>\n",
       "    <tr>\n",
       "      <th>78243</th>\n",
       "      <td>9918</td>\n",
       "      <td>http://world-en.openfoodfacts.org/product/9918...</td>\n",
       "      <td>woshilapin</td>\n",
       "      <td>1430167954</td>\n",
       "      <td>2015-04-27T20:52:34Z</td>\n",
       "      <td>1430167992</td>\n",
       "      <td>2015-04-27T20:53:12Z</td>\n",
       "      <td>Cheese cake thé vert, yuzu</td>\n",
       "      <td>NaN</td>\n",
       "      <td>NaN</td>\n",
       "      <td>...</td>\n",
       "      <td>NaN</td>\n",
       "      <td>NaN</td>\n",
       "      <td>NaN</td>\n",
       "      <td>NaN</td>\n",
       "      <td>NaN</td>\n",
       "      <td>NaN</td>\n",
       "      <td>NaN</td>\n",
       "      <td>NaN</td>\n",
       "      <td>NaN</td>\n",
       "      <td>NaN</td>\n",
       "    </tr>\n",
       "    <tr>\n",
       "      <th>78244</th>\n",
       "      <td>9935010000003</td>\n",
       "      <td>http://world-en.openfoodfacts.org/product/9935...</td>\n",
       "      <td>sebleouf</td>\n",
       "      <td>1446293229</td>\n",
       "      <td>2015-10-31T12:07:09Z</td>\n",
       "      <td>1446376839</td>\n",
       "      <td>2015-11-01T11:20:39Z</td>\n",
       "      <td>Rillette d'oie</td>\n",
       "      <td>NaN</td>\n",
       "      <td>180 g</td>\n",
       "      <td>...</td>\n",
       "      <td>NaN</td>\n",
       "      <td>NaN</td>\n",
       "      <td>NaN</td>\n",
       "      <td>NaN</td>\n",
       "      <td>NaN</td>\n",
       "      <td>NaN</td>\n",
       "      <td>NaN</td>\n",
       "      <td>NaN</td>\n",
       "      <td>NaN</td>\n",
       "      <td>NaN</td>\n",
       "    </tr>\n",
       "    <tr>\n",
       "      <th>78245</th>\n",
       "      <td>9970229501521</td>\n",
       "      <td>http://world-en.openfoodfacts.org/product/9970...</td>\n",
       "      <td>tomato</td>\n",
       "      <td>1422099377</td>\n",
       "      <td>2015-01-24T11:36:17Z</td>\n",
       "      <td>1422177591</td>\n",
       "      <td>2015-01-25T09:19:51Z</td>\n",
       "      <td>乐吧泡菜味薯片</td>\n",
       "      <td>Leba pickle flavor potato chips</td>\n",
       "      <td>50 g</td>\n",
       "      <td>...</td>\n",
       "      <td>NaN</td>\n",
       "      <td>NaN</td>\n",
       "      <td>NaN</td>\n",
       "      <td>NaN</td>\n",
       "      <td>NaN</td>\n",
       "      <td>NaN</td>\n",
       "      <td>NaN</td>\n",
       "      <td>NaN</td>\n",
       "      <td>NaN</td>\n",
       "      <td>NaN</td>\n",
       "    </tr>\n",
       "  </tbody>\n",
       "</table>\n",
       "<p>78246 rows × 159 columns</p>\n",
       "</div>"
      ],
      "text/plain": [
       "                code                                                url  \\\n",
       "0      0000000024600  http://world-en.openfoodfacts.org/product/0000...   \n",
       "1      0000000027205  http://world-en.openfoodfacts.org/product/0000...   \n",
       "2      0000000036252  http://world-en.openfoodfacts.org/product/0000...   \n",
       "3      0000000039259  http://world-en.openfoodfacts.org/product/0000...   \n",
       "4      0000000039529  http://world-en.openfoodfacts.org/product/0000...   \n",
       "...              ...                                                ...   \n",
       "78241  9908278636246  http://world-en.openfoodfacts.org/product/9908...   \n",
       "78242       99111250  http://world-en.openfoodfacts.org/product/9911...   \n",
       "78243           9918  http://world-en.openfoodfacts.org/product/9918...   \n",
       "78244  9935010000003  http://world-en.openfoodfacts.org/product/9935...   \n",
       "78245  9970229501521  http://world-en.openfoodfacts.org/product/9970...   \n",
       "\n",
       "               creator   created_t      created_datetime last_modified_t  \\\n",
       "0      date-limite-app  1434530704  2015-06-17T08:45:04Z      1434535914   \n",
       "1              tacinte  1458238630  2016-03-17T18:17:10Z      1458238638   \n",
       "2              tacinte  1422221701  2015-01-25T21:35:01Z      1422221855   \n",
       "3              tacinte  1422221773  2015-01-25T21:36:13Z      1422221926   \n",
       "4             teolemon  1420147051  2015-01-01T21:17:31Z      1439141740   \n",
       "...                ...         ...                   ...             ...   \n",
       "78241            andre  1360585770  2013-02-11T12:29:30Z      1389960647   \n",
       "78242         balooval  1367163039  2013-04-28T15:30:39Z      1371690556   \n",
       "78243       woshilapin  1430167954  2015-04-27T20:52:34Z      1430167992   \n",
       "78244         sebleouf  1446293229  2015-10-31T12:07:09Z      1446376839   \n",
       "78245           tomato  1422099377  2015-01-24T11:36:17Z      1422177591   \n",
       "\n",
       "      last_modified_datetime                product_name  \\\n",
       "0       2015-06-17T10:11:54Z               Filet de bœuf   \n",
       "1       2016-03-17T18:17:18Z                         NaN   \n",
       "2       2015-01-25T21:37:35Z              Lion Peanut x2   \n",
       "3       2015-01-25T21:38:46Z                     Twix x2   \n",
       "4       2015-08-09T17:35:40Z              Pack de 2 Twix   \n",
       "...                      ...                         ...   \n",
       "78241   2014-01-17T12:10:47Z    Szprot w oleju roslinnym   \n",
       "78242   2013-06-20T01:09:16Z          Thé vert Earl grey   \n",
       "78243   2015-04-27T20:53:12Z  Cheese cake thé vert, yuzu   \n",
       "78244   2015-11-01T11:20:39Z              Rillette d'oie   \n",
       "78245   2015-01-25T09:19:51Z                     乐吧泡菜味薯片   \n",
       "\n",
       "                          generic_name quantity  ... caffeine_100g  \\\n",
       "0                                  NaN  2.46 kg  ...           NaN   \n",
       "1                                  NaN      NaN  ...           NaN   \n",
       "2                                  NaN      NaN  ...           NaN   \n",
       "3                                  NaN      NaN  ...           NaN   \n",
       "4                                  NaN      NaN  ...           NaN   \n",
       "...                                ...      ...  ...           ...   \n",
       "78241                            Sprot     170g  ...           NaN   \n",
       "78242                thé bio équitable     50 g  ...           NaN   \n",
       "78243                              NaN      NaN  ...           NaN   \n",
       "78244                              NaN    180 g  ...           NaN   \n",
       "78245  Leba pickle flavor potato chips     50 g  ...           NaN   \n",
       "\n",
       "      taurine_100g ph_100g fruits-vegetables-nuts_100g  \\\n",
       "0              NaN     NaN                         NaN   \n",
       "1              NaN     NaN                         NaN   \n",
       "2              NaN     NaN                         NaN   \n",
       "3              NaN     NaN                         NaN   \n",
       "4              NaN     NaN                         NaN   \n",
       "...            ...     ...                         ...   \n",
       "78241          NaN     NaN                         NaN   \n",
       "78242          NaN     NaN                         NaN   \n",
       "78243          NaN     NaN                         NaN   \n",
       "78244          NaN     NaN                         NaN   \n",
       "78245          NaN     NaN                         NaN   \n",
       "\n",
       "      collagen-meat-protein-ratio_100g cocoa_100g chlorophyl_100g  \\\n",
       "0                                  NaN        NaN             NaN   \n",
       "1                                  NaN        NaN             NaN   \n",
       "2                                  NaN        NaN             NaN   \n",
       "3                                  NaN        NaN             NaN   \n",
       "4                                  NaN        NaN             NaN   \n",
       "...                                ...        ...             ...   \n",
       "78241                              NaN        NaN             NaN   \n",
       "78242                              NaN        NaN             NaN   \n",
       "78243                              NaN        NaN             NaN   \n",
       "78244                              NaN        NaN             NaN   \n",
       "78245                              NaN        NaN             NaN   \n",
       "\n",
       "      carbon-footprint_100g nutrition-score-fr_100g nutrition-score-uk_100g  \n",
       "0                       NaN                     NaN                     NaN  \n",
       "1                       NaN                     NaN                     NaN  \n",
       "2                       NaN                     NaN                     NaN  \n",
       "3                       NaN                     NaN                     NaN  \n",
       "4                       NaN                     NaN                     NaN  \n",
       "...                     ...                     ...                     ...  \n",
       "78241                   NaN                     NaN                     NaN  \n",
       "78242                   NaN                       2                       0  \n",
       "78243                   NaN                     NaN                     NaN  \n",
       "78244                   NaN                     NaN                     NaN  \n",
       "78245                   NaN                     NaN                     NaN  \n",
       "\n",
       "[78246 rows x 159 columns]"
      ]
     },
     "execution_count": 269,
     "metadata": {},
     "output_type": "execute_result"
    }
   ],
   "source": [
    "##displaying the dataset\n",
    "data"
   ]
  },
  {
   "cell_type": "markdown",
   "id": "fdacd278",
   "metadata": {},
   "source": [
    "<br>\n",
    "\n",
    "<font size=\"5\"> **1. Data Exploration and Analysis**</font>\n",
    "\n",
    "<br>"
   ]
  },
  {
   "cell_type": "code",
   "execution_count": 270,
   "id": "af7bfced",
   "metadata": {},
   "outputs": [
    {
     "data": {
      "text/html": [
       "<div>\n",
       "<style scoped>\n",
       "    .dataframe tbody tr th:only-of-type {\n",
       "        vertical-align: middle;\n",
       "    }\n",
       "\n",
       "    .dataframe tbody tr th {\n",
       "        vertical-align: top;\n",
       "    }\n",
       "\n",
       "    .dataframe thead th {\n",
       "        text-align: right;\n",
       "    }\n",
       "</style>\n",
       "<table border=\"1\" class=\"dataframe\">\n",
       "  <thead>\n",
       "    <tr style=\"text-align: right;\">\n",
       "      <th></th>\n",
       "      <th>code</th>\n",
       "      <th>url</th>\n",
       "      <th>creator</th>\n",
       "      <th>created_t</th>\n",
       "      <th>created_datetime</th>\n",
       "      <th>last_modified_t</th>\n",
       "      <th>last_modified_datetime</th>\n",
       "      <th>product_name</th>\n",
       "      <th>generic_name</th>\n",
       "      <th>quantity</th>\n",
       "      <th>...</th>\n",
       "      <th>caffeine_100g</th>\n",
       "      <th>taurine_100g</th>\n",
       "      <th>ph_100g</th>\n",
       "      <th>fruits-vegetables-nuts_100g</th>\n",
       "      <th>collagen-meat-protein-ratio_100g</th>\n",
       "      <th>cocoa_100g</th>\n",
       "      <th>chlorophyl_100g</th>\n",
       "      <th>carbon-footprint_100g</th>\n",
       "      <th>nutrition-score-fr_100g</th>\n",
       "      <th>nutrition-score-uk_100g</th>\n",
       "    </tr>\n",
       "  </thead>\n",
       "  <tbody>\n",
       "  </tbody>\n",
       "</table>\n",
       "<p>0 rows × 159 columns</p>\n",
       "</div>"
      ],
      "text/plain": [
       "Empty DataFrame\n",
       "Columns: [code, url, creator, created_t, created_datetime, last_modified_t, last_modified_datetime, product_name, generic_name, quantity, packaging, packaging_tags, brands, brands_tags, categories, categories_tags, categories_en, origins, origins_tags, manufacturing_places, manufacturing_places_tags, labels, labels_tags, labels_en, emb_codes, emb_codes_tags, first_packaging_code_geo, cities, cities_tags, purchase_places, stores, countries, countries_tags, countries_en, ingredients_text, allergens, allergens_en, traces, traces_tags, traces_en, serving_size, no_nutriments, additives_n, additives, additives_tags, additives_en, ingredients_from_palm_oil_n, ingredients_from_palm_oil, ingredients_from_palm_oil_tags, ingredients_that_may_be_from_palm_oil_n, ingredients_that_may_be_from_palm_oil, ingredients_that_may_be_from_palm_oil_tags, nutrition_grade_uk, nutrition_grade_fr, pnns_groups_1, pnns_groups_2, states, states_tags, states_en, main_category, main_category_en, image_url, image_small_url, energy_100g, energy-from-fat_100g, fat_100g, saturated-fat_100g, butyric-acid_100g, caproic-acid_100g, caprylic-acid_100g, capric-acid_100g, lauric-acid_100g, myristic-acid_100g, palmitic-acid_100g, stearic-acid_100g, arachidic-acid_100g, behenic-acid_100g, lignoceric-acid_100g, cerotic-acid_100g, montanic-acid_100g, melissic-acid_100g, monounsaturated-fat_100g, polyunsaturated-fat_100g, omega-3-fat_100g, alpha-linolenic-acid_100g, eicosapentaenoic-acid_100g, docosahexaenoic-acid_100g, omega-6-fat_100g, linoleic-acid_100g, arachidonic-acid_100g, gamma-linolenic-acid_100g, dihomo-gamma-linolenic-acid_100g, omega-9-fat_100g, oleic-acid_100g, elaidic-acid_100g, gondoic-acid_100g, mead-acid_100g, erucic-acid_100g, nervonic-acid_100g, trans-fat_100g, ...]\n",
       "Index: []\n",
       "\n",
       "[0 rows x 159 columns]"
      ]
     },
     "execution_count": 270,
     "metadata": {},
     "output_type": "execute_result"
    }
   ],
   "source": [
    "### we wanted to see how many columns would remain if we dropped rows that contained null values\n",
    "### as you can see there is no data left to be used\n",
    "data.dropna()"
   ]
  },
  {
   "cell_type": "code",
   "execution_count": 271,
   "id": "6678f812",
   "metadata": {
    "ExecuteTime": {
     "end_time": "2023-05-30T13:52:13.630615652Z",
     "start_time": "2023-05-30T13:52:11.158369525Z"
    }
   },
   "outputs": [
    {
     "name": "stdout",
     "output_type": "stream",
     "text": [
      "<class 'pandas.core.frame.DataFrame'>\n",
      "RangeIndex: 78246 entries, 0 to 78245\n",
      "Columns: 159 entries, code to nutrition-score-uk_100g\n",
      "dtypes: object(159)\n",
      "memory usage: 94.9+ MB\n"
     ]
    }
   ],
   "source": [
    "data.info()"
   ]
  },
  {
   "cell_type": "code",
   "execution_count": 272,
   "id": "1125fedb",
   "metadata": {
    "ExecuteTime": {
     "end_time": "2023-05-30T13:52:14.921628972Z",
     "start_time": "2023-05-30T13:52:11.161443773Z"
    }
   },
   "outputs": [
    {
     "data": {
      "text/html": [
       "<div>\n",
       "<style scoped>\n",
       "    .dataframe tbody tr th:only-of-type {\n",
       "        vertical-align: middle;\n",
       "    }\n",
       "\n",
       "    .dataframe tbody tr th {\n",
       "        vertical-align: top;\n",
       "    }\n",
       "\n",
       "    .dataframe thead th {\n",
       "        text-align: right;\n",
       "    }\n",
       "</style>\n",
       "<table border=\"1\" class=\"dataframe\">\n",
       "  <thead>\n",
       "    <tr style=\"text-align: right;\">\n",
       "      <th></th>\n",
       "      <th>code</th>\n",
       "      <th>url</th>\n",
       "      <th>creator</th>\n",
       "      <th>created_t</th>\n",
       "      <th>created_datetime</th>\n",
       "      <th>last_modified_t</th>\n",
       "      <th>last_modified_datetime</th>\n",
       "      <th>product_name</th>\n",
       "      <th>generic_name</th>\n",
       "      <th>quantity</th>\n",
       "      <th>...</th>\n",
       "      <th>caffeine_100g</th>\n",
       "      <th>taurine_100g</th>\n",
       "      <th>ph_100g</th>\n",
       "      <th>fruits-vegetables-nuts_100g</th>\n",
       "      <th>collagen-meat-protein-ratio_100g</th>\n",
       "      <th>cocoa_100g</th>\n",
       "      <th>chlorophyl_100g</th>\n",
       "      <th>carbon-footprint_100g</th>\n",
       "      <th>nutrition-score-fr_100g</th>\n",
       "      <th>nutrition-score-uk_100g</th>\n",
       "    </tr>\n",
       "  </thead>\n",
       "  <tbody>\n",
       "    <tr>\n",
       "      <th>count</th>\n",
       "      <td>78228</td>\n",
       "      <td>78228</td>\n",
       "      <td>78177</td>\n",
       "      <td>78243</td>\n",
       "      <td>78239</td>\n",
       "      <td>78246</td>\n",
       "      <td>78246</td>\n",
       "      <td>70338</td>\n",
       "      <td>38117</td>\n",
       "      <td>65478</td>\n",
       "      <td>...</td>\n",
       "      <td>39</td>\n",
       "      <td>17</td>\n",
       "      <td>35</td>\n",
       "      <td>1210</td>\n",
       "      <td>123</td>\n",
       "      <td>610</td>\n",
       "      <td>0</td>\n",
       "      <td>194</td>\n",
       "      <td>36629</td>\n",
       "      <td>36629</td>\n",
       "    </tr>\n",
       "    <tr>\n",
       "      <th>unique</th>\n",
       "      <td>78228</td>\n",
       "      <td>78228</td>\n",
       "      <td>2323</td>\n",
       "      <td>77971</td>\n",
       "      <td>77972</td>\n",
       "      <td>76700</td>\n",
       "      <td>76700</td>\n",
       "      <td>58649</td>\n",
       "      <td>27038</td>\n",
       "      <td>9731</td>\n",
       "      <td>...</td>\n",
       "      <td>25</td>\n",
       "      <td>11</td>\n",
       "      <td>20</td>\n",
       "      <td>262</td>\n",
       "      <td>6</td>\n",
       "      <td>73</td>\n",
       "      <td>0</td>\n",
       "      <td>146</td>\n",
       "      <td>49</td>\n",
       "      <td>48</td>\n",
       "    </tr>\n",
       "    <tr>\n",
       "      <th>top</th>\n",
       "      <td>3596710406944</td>\n",
       "      <td>http://world-en.openfoodfacts.org/product/3017...</td>\n",
       "      <td>openfoodfacts-contributors</td>\n",
       "      <td>1415014731</td>\n",
       "      <td>2014-11-03T11:38:51Z</td>\n",
       "      <td>1439141756</td>\n",
       "      <td>2015-08-09T17:35:56Z</td>\n",
       "      <td>OBF</td>\n",
       "      <td>Pâtes alimentaires au blé dur de qualité supér...</td>\n",
       "      <td>500 g</td>\n",
       "      <td>...</td>\n",
       "      <td>0.032</td>\n",
       "      <td>0.035</td>\n",
       "      <td>7.2</td>\n",
       "      <td>50</td>\n",
       "      <td>15</td>\n",
       "      <td>30</td>\n",
       "      <td>NaN</td>\n",
       "      <td>0</td>\n",
       "      <td>0</td>\n",
       "      <td>0</td>\n",
       "    </tr>\n",
       "    <tr>\n",
       "      <th>freq</th>\n",
       "      <td>1</td>\n",
       "      <td>1</td>\n",
       "      <td>21453</td>\n",
       "      <td>6</td>\n",
       "      <td>6</td>\n",
       "      <td>52</td>\n",
       "      <td>52</td>\n",
       "      <td>53</td>\n",
       "      <td>206</td>\n",
       "      <td>2838</td>\n",
       "      <td>...</td>\n",
       "      <td>6</td>\n",
       "      <td>5</td>\n",
       "      <td>8</td>\n",
       "      <td>224</td>\n",
       "      <td>66</td>\n",
       "      <td>109</td>\n",
       "      <td>NaN</td>\n",
       "      <td>14</td>\n",
       "      <td>2081</td>\n",
       "      <td>2521</td>\n",
       "    </tr>\n",
       "  </tbody>\n",
       "</table>\n",
       "<p>4 rows × 159 columns</p>\n",
       "</div>"
      ],
      "text/plain": [
       "                 code                                                url  \\\n",
       "count           78228                                              78228   \n",
       "unique          78228                                              78228   \n",
       "top     3596710406944  http://world-en.openfoodfacts.org/product/3017...   \n",
       "freq                1                                                  1   \n",
       "\n",
       "                           creator   created_t      created_datetime  \\\n",
       "count                        78177       78243                 78239   \n",
       "unique                        2323       77971                 77972   \n",
       "top     openfoodfacts-contributors  1415014731  2014-11-03T11:38:51Z   \n",
       "freq                         21453           6                     6   \n",
       "\n",
       "       last_modified_t last_modified_datetime product_name  \\\n",
       "count            78246                  78246        70338   \n",
       "unique           76700                  76700        58649   \n",
       "top         1439141756   2015-08-09T17:35:56Z          OBF   \n",
       "freq                52                     52           53   \n",
       "\n",
       "                                             generic_name quantity  ...  \\\n",
       "count                                               38117    65478  ...   \n",
       "unique                                              27038     9731  ...   \n",
       "top     Pâtes alimentaires au blé dur de qualité supér...    500 g  ...   \n",
       "freq                                                  206     2838  ...   \n",
       "\n",
       "       caffeine_100g taurine_100g ph_100g fruits-vegetables-nuts_100g  \\\n",
       "count             39           17      35                        1210   \n",
       "unique            25           11      20                         262   \n",
       "top            0.032        0.035     7.2                          50   \n",
       "freq               6            5       8                         224   \n",
       "\n",
       "       collagen-meat-protein-ratio_100g cocoa_100g chlorophyl_100g  \\\n",
       "count                               123        610               0   \n",
       "unique                                6         73               0   \n",
       "top                                  15         30             NaN   \n",
       "freq                                 66        109             NaN   \n",
       "\n",
       "       carbon-footprint_100g nutrition-score-fr_100g nutrition-score-uk_100g  \n",
       "count                    194                   36629                   36629  \n",
       "unique                   146                      49                      48  \n",
       "top                        0                       0                       0  \n",
       "freq                      14                    2081                    2521  \n",
       "\n",
       "[4 rows x 159 columns]"
      ]
     },
     "execution_count": 272,
     "metadata": {},
     "output_type": "execute_result"
    }
   ],
   "source": [
    "# describing columns - standard descriptive statistics\n",
    "data.describe()"
   ]
  },
  {
   "cell_type": "code",
   "execution_count": 273,
   "id": "5e7bc056",
   "metadata": {},
   "outputs": [
    {
     "name": "stdout",
     "output_type": "stream",
     "text": [
      " There are 0 duplication in the dataset\n"
     ]
    }
   ],
   "source": [
    "##no duplications present in the data\n",
    "print(f\" There are {data.duplicated().sum()} duplication in the dataset\")"
   ]
  },
  {
   "cell_type": "code",
   "execution_count": 274,
   "id": "67c333c3",
   "metadata": {
    "ExecuteTime": {
     "end_time": "2023-05-30T13:52:16.146118778Z",
     "start_time": "2023-05-30T13:52:13.631191417Z"
    }
   },
   "outputs": [
    {
     "name": "stdout",
     "output_type": "stream",
     "text": [
      " There are 78246 rows in the dataset\n"
     ]
    }
   ],
   "source": [
    "##total number of rows in dataset\n",
    "print(f\" There are {len(data)} rows in the dataset\")"
   ]
  },
  {
   "cell_type": "code",
   "execution_count": 275,
   "id": "e4c0536d",
   "metadata": {},
   "outputs": [
    {
     "data": {
      "text/plain": [
       "code                       78228\n",
       "url                        78228\n",
       "creator                    78177\n",
       "created_t                  78243\n",
       "created_datetime           78239\n",
       "                           ...  \n",
       "cocoa_100g                   610\n",
       "chlorophyl_100g                0\n",
       "carbon-footprint_100g        194\n",
       "nutrition-score-fr_100g    36629\n",
       "nutrition-score-uk_100g    36629\n",
       "Length: 159, dtype: int64"
      ]
     },
     "execution_count": 275,
     "metadata": {},
     "output_type": "execute_result"
    }
   ],
   "source": [
    "##count the number of rows in each column\n",
    "data.count() "
   ]
  },
  {
   "cell_type": "markdown",
   "id": "2f944b9e",
   "metadata": {},
   "source": [
    "<font size=\"3\"> Question - What are the column names in the dataset?</font>"
   ]
  },
  {
   "cell_type": "code",
   "execution_count": 276,
   "id": "8847e3d6",
   "metadata": {},
   "outputs": [
    {
     "name": "stdout",
     "output_type": "stream",
     "text": [
      "There are 159 columns in the dataset\n",
      "\n"
     ]
    }
   ],
   "source": [
    "list_of_column_names = list(data.columns)\n",
    "print(f\"There are {len(list_of_column_names)} columns in the dataset\\n\")"
   ]
  },
  {
   "cell_type": "code",
   "execution_count": 277,
   "id": "269ab0f1",
   "metadata": {},
   "outputs": [
    {
     "name": "stdout",
     "output_type": "stream",
     "text": [
      "Below show the column names\n"
     ]
    },
    {
     "data": {
      "text/plain": [
       "['code',\n",
       " 'url',\n",
       " 'creator',\n",
       " 'created_t',\n",
       " 'created_datetime',\n",
       " 'last_modified_t',\n",
       " 'last_modified_datetime',\n",
       " 'product_name',\n",
       " 'generic_name',\n",
       " 'quantity',\n",
       " 'packaging',\n",
       " 'packaging_tags',\n",
       " 'brands',\n",
       " 'brands_tags',\n",
       " 'categories',\n",
       " 'categories_tags',\n",
       " 'categories_en',\n",
       " 'origins',\n",
       " 'origins_tags',\n",
       " 'manufacturing_places',\n",
       " 'manufacturing_places_tags',\n",
       " 'labels',\n",
       " 'labels_tags',\n",
       " 'labels_en',\n",
       " 'emb_codes',\n",
       " 'emb_codes_tags',\n",
       " 'first_packaging_code_geo',\n",
       " 'cities',\n",
       " 'cities_tags',\n",
       " 'purchase_places',\n",
       " 'stores',\n",
       " 'countries',\n",
       " 'countries_tags',\n",
       " 'countries_en',\n",
       " 'ingredients_text',\n",
       " 'allergens',\n",
       " 'allergens_en',\n",
       " 'traces',\n",
       " 'traces_tags',\n",
       " 'traces_en',\n",
       " 'serving_size',\n",
       " 'no_nutriments',\n",
       " 'additives_n',\n",
       " 'additives',\n",
       " 'additives_tags',\n",
       " 'additives_en',\n",
       " 'ingredients_from_palm_oil_n',\n",
       " 'ingredients_from_palm_oil',\n",
       " 'ingredients_from_palm_oil_tags',\n",
       " 'ingredients_that_may_be_from_palm_oil_n',\n",
       " 'ingredients_that_may_be_from_palm_oil',\n",
       " 'ingredients_that_may_be_from_palm_oil_tags',\n",
       " 'nutrition_grade_uk',\n",
       " 'nutrition_grade_fr',\n",
       " 'pnns_groups_1',\n",
       " 'pnns_groups_2',\n",
       " 'states',\n",
       " 'states_tags',\n",
       " 'states_en',\n",
       " 'main_category',\n",
       " 'main_category_en',\n",
       " 'image_url',\n",
       " 'image_small_url',\n",
       " 'energy_100g',\n",
       " 'energy-from-fat_100g',\n",
       " 'fat_100g',\n",
       " 'saturated-fat_100g',\n",
       " 'butyric-acid_100g',\n",
       " 'caproic-acid_100g',\n",
       " 'caprylic-acid_100g',\n",
       " 'capric-acid_100g',\n",
       " 'lauric-acid_100g',\n",
       " 'myristic-acid_100g',\n",
       " 'palmitic-acid_100g',\n",
       " 'stearic-acid_100g',\n",
       " 'arachidic-acid_100g',\n",
       " 'behenic-acid_100g',\n",
       " 'lignoceric-acid_100g',\n",
       " 'cerotic-acid_100g',\n",
       " 'montanic-acid_100g',\n",
       " 'melissic-acid_100g',\n",
       " 'monounsaturated-fat_100g',\n",
       " 'polyunsaturated-fat_100g',\n",
       " 'omega-3-fat_100g',\n",
       " 'alpha-linolenic-acid_100g',\n",
       " 'eicosapentaenoic-acid_100g',\n",
       " 'docosahexaenoic-acid_100g',\n",
       " 'omega-6-fat_100g',\n",
       " 'linoleic-acid_100g',\n",
       " 'arachidonic-acid_100g',\n",
       " 'gamma-linolenic-acid_100g',\n",
       " 'dihomo-gamma-linolenic-acid_100g',\n",
       " 'omega-9-fat_100g',\n",
       " 'oleic-acid_100g',\n",
       " 'elaidic-acid_100g',\n",
       " 'gondoic-acid_100g',\n",
       " 'mead-acid_100g',\n",
       " 'erucic-acid_100g',\n",
       " 'nervonic-acid_100g',\n",
       " 'trans-fat_100g',\n",
       " 'cholesterol_100g',\n",
       " 'carbohydrates_100g',\n",
       " 'sugars_100g',\n",
       " 'sucrose_100g',\n",
       " 'glucose_100g',\n",
       " 'fructose_100g',\n",
       " 'lactose_100g',\n",
       " 'maltose_100g',\n",
       " 'maltodextrins_100g',\n",
       " 'starch_100g',\n",
       " 'polyols_100g',\n",
       " 'fiber_100g',\n",
       " 'proteins_100g',\n",
       " 'casein_100g',\n",
       " 'serum-proteins_100g',\n",
       " 'nucleotides_100g',\n",
       " 'salt_100g',\n",
       " 'sodium_100g',\n",
       " 'alcohol_100g',\n",
       " 'vitamin-a_100g',\n",
       " 'beta-carotene_100g',\n",
       " 'vitamin-d_100g',\n",
       " 'vitamin-e_100g',\n",
       " 'vitamin-k_100g',\n",
       " 'vitamin-c_100g',\n",
       " 'vitamin-b1_100g',\n",
       " 'vitamin-b2_100g',\n",
       " 'vitamin-pp_100g',\n",
       " 'vitamin-b6_100g',\n",
       " 'vitamin-b9_100g',\n",
       " 'vitamin-b12_100g',\n",
       " 'biotin_100g',\n",
       " 'pantothenic-acid_100g',\n",
       " 'silica_100g',\n",
       " 'bicarbonate_100g',\n",
       " 'potassium_100g',\n",
       " 'chloride_100g',\n",
       " 'calcium_100g',\n",
       " 'phosphorus_100g',\n",
       " 'iron_100g',\n",
       " 'magnesium_100g',\n",
       " 'zinc_100g',\n",
       " 'copper_100g',\n",
       " 'manganese_100g',\n",
       " 'fluoride_100g',\n",
       " 'selenium_100g',\n",
       " 'chromium_100g',\n",
       " 'molybdenum_100g',\n",
       " 'iodine_100g',\n",
       " 'caffeine_100g',\n",
       " 'taurine_100g',\n",
       " 'ph_100g',\n",
       " 'fruits-vegetables-nuts_100g',\n",
       " 'collagen-meat-protein-ratio_100g',\n",
       " 'cocoa_100g',\n",
       " 'chlorophyl_100g',\n",
       " 'carbon-footprint_100g',\n",
       " 'nutrition-score-fr_100g',\n",
       " 'nutrition-score-uk_100g']"
      ]
     },
     "execution_count": 277,
     "metadata": {},
     "output_type": "execute_result"
    }
   ],
   "source": [
    "##to see all the column names\n",
    "print(\"Below show the column names\")\n",
    "list_of_column_names"
   ]
  },
  {
   "cell_type": "markdown",
   "id": "5e18f3b0",
   "metadata": {},
   "source": [
    "<font size=\"3\">Question - Are there missing values in the dataset?</font>"
   ]
  },
  {
   "cell_type": "code",
   "execution_count": 278,
   "id": "57f65fd7",
   "metadata": {},
   "outputs": [
    {
     "name": "stdout",
     "output_type": "stream",
     "text": [
      "There are missing values in the dataset\n"
     ]
    }
   ],
   "source": [
    "#Check if there is any missing values in dataset\n",
    "check=data.isnull().any().sum()\n",
    "if check == 0:\n",
    "    print('There are no missing values in the dataset')\n",
    "else:\n",
    "    print('There are missing values in the dataset')"
   ]
  },
  {
   "cell_type": "code",
   "execution_count": 279,
   "id": "a944e552",
   "metadata": {
    "ExecuteTime": {
     "end_time": "2023-05-30T13:52:19.768035052Z",
     "start_time": "2023-05-30T13:52:13.632633613Z"
    }
   },
   "outputs": [
    {
     "name": "stdout",
     "output_type": "stream",
     "text": [
      "There are 15 columns in the dataset in which ever row has a missing value.\n",
      "\n"
     ]
    }
   ],
   "source": [
    "# from our observation, after finding out there are missing data values. \n",
    "## we then wanted to know which columns had the missing values and how many for each column\n",
    "#we can see that many columns have most or all the values at None\n",
    "\n",
    "print(f\"There are {sum(data.isna().sum().sort_values() == 78246)} columns in the dataset in which ever row has a missing value.\\n\")"
   ]
  },
  {
   "cell_type": "code",
   "execution_count": 280,
   "id": "95e705ba",
   "metadata": {},
   "outputs": [
    {
     "name": "stdout",
     "output_type": "stream",
     "text": [
      "Below shows how many missing values in each column.\n"
     ]
    },
    {
     "data": {
      "text/plain": [
       "last_modified_t                              0\n",
       "last_modified_datetime                       0\n",
       "created_t                                    3\n",
       "created_datetime                             7\n",
       "code                                        18\n",
       "                                         ...  \n",
       "no_nutriments                            78246\n",
       "ingredients_that_may_be_from_palm_oil    78246\n",
       "mead-acid_100g                           78246\n",
       "butyric-acid_100g                        78246\n",
       "montanic-acid_100g                       78246\n",
       "Length: 159, dtype: int64"
      ]
     },
     "execution_count": 280,
     "metadata": {},
     "output_type": "execute_result"
    }
   ],
   "source": [
    "print(\"Below shows how many missing values in each column.\")\n",
    "data.isna().sum().sort_values()"
   ]
  },
  {
   "cell_type": "markdown",
   "id": "b6a953ae",
   "metadata": {},
   "source": [
    "<font size=\"3\">Question 4 - Can we remove those columns with missing values? Are they important?</font>"
   ]
  },
  {
   "cell_type": "code",
   "execution_count": 281,
   "id": "d9470649",
   "metadata": {},
   "outputs": [
    {
     "name": "stdout",
     "output_type": "stream",
     "text": [
      "this is a list of columns that all its rows contain Null values:\n",
      " Index(['nutrition_grade_uk', 'chlorophyl_100g', 'erucic-acid_100g',\n",
      "       'lignoceric-acid_100g', 'caproic-acid_100g', 'nervonic-acid_100g',\n",
      "       'cerotic-acid_100g', 'melissic-acid_100g', 'ingredients_from_palm_oil',\n",
      "       'elaidic-acid_100g', 'no_nutriments',\n",
      "       'ingredients_that_may_be_from_palm_oil', 'mead-acid_100g',\n",
      "       'butyric-acid_100g', 'montanic-acid_100g'],\n",
      "      dtype='object')\n"
     ]
    }
   ],
   "source": [
    "missValueData= pd.DataFrame(data.isna().sum().sort_values())\n",
    "print(f\"this is a list of columns that all its rows contain Null values:\\n {missValueData.loc[missValueData[0]== 78246].index}\")"
   ]
  },
  {
   "cell_type": "code",
   "execution_count": 282,
   "id": "41df7286",
   "metadata": {},
   "outputs": [
    {
     "name": "stdout",
     "output_type": "stream",
     "text": [
      "153 columns has more than 50 missing values\n",
      "146 columns has more than 1000 missing values\n",
      "144 columns has more than 5000 missing values\n",
      "143 columns has more than 10000 missing values\n",
      "126 columns has more than 30000 missing values\n",
      "109 columns has more than 50000 missing values\n"
     ]
    }
   ],
   "source": [
    "## the amount of data missing is too much to be ignored\n",
    "print(f\"{len(missValueData.loc[missValueData[0]>50])} columns has more than 50 missing values\")\n",
    "print(f\"{len(missValueData.loc[missValueData[0]>1000])} columns has more than 1000 missing values\")\n",
    "print(f\"{len(missValueData.loc[missValueData[0]>5000])} columns has more than 5000 missing values\")\n",
    "print(f\"{len(missValueData.loc[missValueData[0]>10000])} columns has more than 10000 missing values\")\n",
    "print(f\"{len(missValueData.loc[missValueData[0]>30000])} columns has more than 30000 missing values\")\n",
    "print(f\"{len(missValueData.loc[missValueData[0]>50000])} columns has more than 50000 missing values\")"
   ]
  },
  {
   "cell_type": "markdown",
   "id": "55e420df",
   "metadata": {},
   "source": [
    "<font size=\"3\">Question - Which columns have no missing values?</font>"
   ]
  },
  {
   "cell_type": "code",
   "execution_count": 283,
   "id": "8c94a8d6",
   "metadata": {},
   "outputs": [
    {
     "name": "stdout",
     "output_type": "stream",
     "text": [
      "Only 2 columns have no missing values\n"
     ]
    },
    {
     "data": {
      "text/html": [
       "<div>\n",
       "<style scoped>\n",
       "    .dataframe tbody tr th:only-of-type {\n",
       "        vertical-align: middle;\n",
       "    }\n",
       "\n",
       "    .dataframe tbody tr th {\n",
       "        vertical-align: top;\n",
       "    }\n",
       "\n",
       "    .dataframe thead th {\n",
       "        text-align: right;\n",
       "    }\n",
       "</style>\n",
       "<table border=\"1\" class=\"dataframe\">\n",
       "  <thead>\n",
       "    <tr style=\"text-align: right;\">\n",
       "      <th></th>\n",
       "      <th>0</th>\n",
       "    </tr>\n",
       "  </thead>\n",
       "  <tbody>\n",
       "    <tr>\n",
       "      <th>last_modified_t</th>\n",
       "      <td>0</td>\n",
       "    </tr>\n",
       "    <tr>\n",
       "      <th>last_modified_datetime</th>\n",
       "      <td>0</td>\n",
       "    </tr>\n",
       "  </tbody>\n",
       "</table>\n",
       "</div>"
      ],
      "text/plain": [
       "                        0\n",
       "last_modified_t         0\n",
       "last_modified_datetime  0"
      ]
     },
     "execution_count": 283,
     "metadata": {},
     "output_type": "execute_result"
    }
   ],
   "source": [
    "### these columns arn't useful much in our opinion\n",
    "print(f\"Only {len(missValueData.loc[missValueData[0]== 0])} columns have no missing values\")\n",
    "missValueData.loc[missValueData[0]== 0]"
   ]
  },
  {
   "cell_type": "markdown",
   "id": "e536f1e8",
   "metadata": {},
   "source": [
    "<font size=\"4\">Clusterisation of foods based on their various attributes</font>"
   ]
  },
  {
   "cell_type": "markdown",
   "id": "881e7770",
   "metadata": {},
   "source": [
    "<font size=\"3\">Question - What are the subgroups that can be done in dataset to make it smaller?</font>"
   ]
  },
  {
   "cell_type": "code",
   "execution_count": 284,
   "id": "37060236",
   "metadata": {
    "ExecuteTime": {
     "end_time": "2023-05-30T13:52:20.874273613Z",
     "start_time": "2023-05-30T13:52:17.462616027Z"
    }
   },
   "outputs": [],
   "source": [
    "# We manually select the important features for this assignment taking in consideration the number of None values.\n",
    "##we did the main components that would be important in each of our clusters\n",
    "\n",
    "features = [\"creator\" ,\"countries_en\", \"image_url\", \"brands\", \"main_category_en\",\"packaging\"]\n"
   ]
  },
  {
   "cell_type": "code",
   "execution_count": 285,
   "id": "cf9da86f",
   "metadata": {},
   "outputs": [
    {
     "data": {
      "text/html": [
       "<div>\n",
       "<style scoped>\n",
       "    .dataframe tbody tr th:only-of-type {\n",
       "        vertical-align: middle;\n",
       "    }\n",
       "\n",
       "    .dataframe tbody tr th {\n",
       "        vertical-align: top;\n",
       "    }\n",
       "\n",
       "    .dataframe thead th {\n",
       "        text-align: right;\n",
       "    }\n",
       "</style>\n",
       "<table border=\"1\" class=\"dataframe\">\n",
       "  <thead>\n",
       "    <tr style=\"text-align: right;\">\n",
       "      <th></th>\n",
       "      <th>creator</th>\n",
       "      <th>countries_en</th>\n",
       "      <th>image_url</th>\n",
       "      <th>brands</th>\n",
       "      <th>main_category_en</th>\n",
       "      <th>packaging</th>\n",
       "      <th>fat_100g</th>\n",
       "      <th>energy_100g</th>\n",
       "      <th>carbohydrates_100g</th>\n",
       "      <th>proteins_100g</th>\n",
       "      <th>salt_100g</th>\n",
       "      <th>sugars_100g</th>\n",
       "      <th>saturated-fat_100g</th>\n",
       "    </tr>\n",
       "  </thead>\n",
       "  <tbody>\n",
       "    <tr>\n",
       "      <th>0</th>\n",
       "      <td>date-limite-app</td>\n",
       "      <td>France</td>\n",
       "      <td>http://en.openfoodfacts.org/images/products/00...</td>\n",
       "      <td>NaN</td>\n",
       "      <td>fr:Filet-de-boeuf</td>\n",
       "      <td>plastique</td>\n",
       "      <td>NaN</td>\n",
       "      <td>NaN</td>\n",
       "      <td>NaN</td>\n",
       "      <td>NaN</td>\n",
       "      <td>NaN</td>\n",
       "      <td>NaN</td>\n",
       "      <td>NaN</td>\n",
       "    </tr>\n",
       "    <tr>\n",
       "      <th>1</th>\n",
       "      <td>tacinte</td>\n",
       "      <td>France</td>\n",
       "      <td>http://en.openfoodfacts.org/images/products/00...</td>\n",
       "      <td>NaN</td>\n",
       "      <td>NaN</td>\n",
       "      <td>NaN</td>\n",
       "      <td>NaN</td>\n",
       "      <td>NaN</td>\n",
       "      <td>NaN</td>\n",
       "      <td>NaN</td>\n",
       "      <td>NaN</td>\n",
       "      <td>NaN</td>\n",
       "      <td>NaN</td>\n",
       "    </tr>\n",
       "    <tr>\n",
       "      <th>2</th>\n",
       "      <td>tacinte</td>\n",
       "      <td>France</td>\n",
       "      <td>http://en.openfoodfacts.org/images/products/00...</td>\n",
       "      <td>NaN</td>\n",
       "      <td>NaN</td>\n",
       "      <td>NaN</td>\n",
       "      <td>NaN</td>\n",
       "      <td>NaN</td>\n",
       "      <td>NaN</td>\n",
       "      <td>NaN</td>\n",
       "      <td>NaN</td>\n",
       "      <td>NaN</td>\n",
       "      <td>NaN</td>\n",
       "    </tr>\n",
       "    <tr>\n",
       "      <th>3</th>\n",
       "      <td>tacinte</td>\n",
       "      <td>France</td>\n",
       "      <td>http://en.openfoodfacts.org/images/products/00...</td>\n",
       "      <td>NaN</td>\n",
       "      <td>NaN</td>\n",
       "      <td>NaN</td>\n",
       "      <td>NaN</td>\n",
       "      <td>NaN</td>\n",
       "      <td>NaN</td>\n",
       "      <td>NaN</td>\n",
       "      <td>NaN</td>\n",
       "      <td>NaN</td>\n",
       "      <td>NaN</td>\n",
       "    </tr>\n",
       "    <tr>\n",
       "      <th>4</th>\n",
       "      <td>teolemon</td>\n",
       "      <td>France</td>\n",
       "      <td>http://en.openfoodfacts.org/images/products/00...</td>\n",
       "      <td>Twix</td>\n",
       "      <td>NaN</td>\n",
       "      <td>NaN</td>\n",
       "      <td>NaN</td>\n",
       "      <td>NaN</td>\n",
       "      <td>NaN</td>\n",
       "      <td>NaN</td>\n",
       "      <td>NaN</td>\n",
       "      <td>NaN</td>\n",
       "      <td>NaN</td>\n",
       "    </tr>\n",
       "    <tr>\n",
       "      <th>...</th>\n",
       "      <td>...</td>\n",
       "      <td>...</td>\n",
       "      <td>...</td>\n",
       "      <td>...</td>\n",
       "      <td>...</td>\n",
       "      <td>...</td>\n",
       "      <td>...</td>\n",
       "      <td>...</td>\n",
       "      <td>...</td>\n",
       "      <td>...</td>\n",
       "      <td>...</td>\n",
       "      <td>...</td>\n",
       "      <td>...</td>\n",
       "    </tr>\n",
       "    <tr>\n",
       "      <th>78241</th>\n",
       "      <td>andre</td>\n",
       "      <td>Poland</td>\n",
       "      <td>http://en.openfoodfacts.org/images/products/99...</td>\n",
       "      <td>EvraFish</td>\n",
       "      <td>pl:Szprot</td>\n",
       "      <td>NaN</td>\n",
       "      <td>NaN</td>\n",
       "      <td>NaN</td>\n",
       "      <td>NaN</td>\n",
       "      <td>NaN</td>\n",
       "      <td>NaN</td>\n",
       "      <td>NaN</td>\n",
       "      <td>NaN</td>\n",
       "    </tr>\n",
       "    <tr>\n",
       "      <th>78242</th>\n",
       "      <td>balooval</td>\n",
       "      <td>France</td>\n",
       "      <td>http://en.openfoodfacts.org/images/products/99...</td>\n",
       "      <td>Lobodis</td>\n",
       "      <td>Beverages</td>\n",
       "      <td>boîte,carton</td>\n",
       "      <td>0.2</td>\n",
       "      <td>21</td>\n",
       "      <td>0.5</td>\n",
       "      <td>0.5</td>\n",
       "      <td>0.0254</td>\n",
       "      <td>0.5</td>\n",
       "      <td>0.2</td>\n",
       "    </tr>\n",
       "    <tr>\n",
       "      <th>78243</th>\n",
       "      <td>woshilapin</td>\n",
       "      <td>France</td>\n",
       "      <td>http://en.openfoodfacts.org/images/products/99...</td>\n",
       "      <td>NaN</td>\n",
       "      <td>NaN</td>\n",
       "      <td>NaN</td>\n",
       "      <td>NaN</td>\n",
       "      <td>NaN</td>\n",
       "      <td>NaN</td>\n",
       "      <td>NaN</td>\n",
       "      <td>NaN</td>\n",
       "      <td>NaN</td>\n",
       "      <td>NaN</td>\n",
       "    </tr>\n",
       "    <tr>\n",
       "      <th>78244</th>\n",
       "      <td>sebleouf</td>\n",
       "      <td>France</td>\n",
       "      <td>http://en.openfoodfacts.org/images/products/99...</td>\n",
       "      <td>Sans marque,D.Lambert</td>\n",
       "      <td>Meats</td>\n",
       "      <td>Pot,Verre</td>\n",
       "      <td>NaN</td>\n",
       "      <td>NaN</td>\n",
       "      <td>NaN</td>\n",
       "      <td>NaN</td>\n",
       "      <td>NaN</td>\n",
       "      <td>NaN</td>\n",
       "      <td>NaN</td>\n",
       "    </tr>\n",
       "    <tr>\n",
       "      <th>78245</th>\n",
       "      <td>tomato</td>\n",
       "      <td>China</td>\n",
       "      <td>http://en.openfoodfacts.org/images/products/99...</td>\n",
       "      <td>乐吧</td>\n",
       "      <td>Salty snacks</td>\n",
       "      <td>NaN</td>\n",
       "      <td>NaN</td>\n",
       "      <td>NaN</td>\n",
       "      <td>NaN</td>\n",
       "      <td>NaN</td>\n",
       "      <td>NaN</td>\n",
       "      <td>NaN</td>\n",
       "      <td>NaN</td>\n",
       "    </tr>\n",
       "  </tbody>\n",
       "</table>\n",
       "<p>78246 rows × 13 columns</p>\n",
       "</div>"
      ],
      "text/plain": [
       "               creator countries_en  \\\n",
       "0      date-limite-app       France   \n",
       "1              tacinte       France   \n",
       "2              tacinte       France   \n",
       "3              tacinte       France   \n",
       "4             teolemon       France   \n",
       "...                ...          ...   \n",
       "78241            andre       Poland   \n",
       "78242         balooval       France   \n",
       "78243       woshilapin       France   \n",
       "78244         sebleouf       France   \n",
       "78245           tomato        China   \n",
       "\n",
       "                                               image_url  \\\n",
       "0      http://en.openfoodfacts.org/images/products/00...   \n",
       "1      http://en.openfoodfacts.org/images/products/00...   \n",
       "2      http://en.openfoodfacts.org/images/products/00...   \n",
       "3      http://en.openfoodfacts.org/images/products/00...   \n",
       "4      http://en.openfoodfacts.org/images/products/00...   \n",
       "...                                                  ...   \n",
       "78241  http://en.openfoodfacts.org/images/products/99...   \n",
       "78242  http://en.openfoodfacts.org/images/products/99...   \n",
       "78243  http://en.openfoodfacts.org/images/products/99...   \n",
       "78244  http://en.openfoodfacts.org/images/products/99...   \n",
       "78245  http://en.openfoodfacts.org/images/products/99...   \n",
       "\n",
       "                      brands   main_category_en     packaging fat_100g  \\\n",
       "0                        NaN  fr:Filet-de-boeuf     plastique      NaN   \n",
       "1                        NaN                NaN           NaN      NaN   \n",
       "2                        NaN                NaN           NaN      NaN   \n",
       "3                        NaN                NaN           NaN      NaN   \n",
       "4                       Twix                NaN           NaN      NaN   \n",
       "...                      ...                ...           ...      ...   \n",
       "78241               EvraFish          pl:Szprot           NaN      NaN   \n",
       "78242                Lobodis          Beverages  boîte,carton      0.2   \n",
       "78243                    NaN                NaN           NaN      NaN   \n",
       "78244  Sans marque,D.Lambert              Meats     Pot,Verre      NaN   \n",
       "78245                     乐吧       Salty snacks           NaN      NaN   \n",
       "\n",
       "      energy_100g carbohydrates_100g proteins_100g salt_100g sugars_100g  \\\n",
       "0             NaN                NaN           NaN       NaN         NaN   \n",
       "1             NaN                NaN           NaN       NaN         NaN   \n",
       "2             NaN                NaN           NaN       NaN         NaN   \n",
       "3             NaN                NaN           NaN       NaN         NaN   \n",
       "4             NaN                NaN           NaN       NaN         NaN   \n",
       "...           ...                ...           ...       ...         ...   \n",
       "78241         NaN                NaN           NaN       NaN         NaN   \n",
       "78242          21                0.5           0.5    0.0254         0.5   \n",
       "78243         NaN                NaN           NaN       NaN         NaN   \n",
       "78244         NaN                NaN           NaN       NaN         NaN   \n",
       "78245         NaN                NaN           NaN       NaN         NaN   \n",
       "\n",
       "      saturated-fat_100g  \n",
       "0                    NaN  \n",
       "1                    NaN  \n",
       "2                    NaN  \n",
       "3                    NaN  \n",
       "4                    NaN  \n",
       "...                  ...  \n",
       "78241                NaN  \n",
       "78242                0.2  \n",
       "78243                NaN  \n",
       "78244                NaN  \n",
       "78245                NaN  \n",
       "\n",
       "[78246 rows x 13 columns]"
      ]
     },
     "execution_count": 285,
     "metadata": {},
     "output_type": "execute_result"
    }
   ],
   "source": [
    "###group for macronutrient categories in food\n",
    "nutri_features = [\"fat_100g\", \"energy_100g\", \"carbohydrates_100g\", \"proteins_100g\", \"salt_100g\", \"sugars_100g\", \"saturated-fat_100g\"]\n",
    "df = data[features + nutri_features]\n",
    "df\n",
    " "
   ]
  },
  {
   "cell_type": "code",
   "execution_count": 286,
   "id": "8a2a8dec",
   "metadata": {
    "ExecuteTime": {
     "end_time": "2023-05-30T13:52:20.914101861Z",
     "start_time": "2023-05-30T13:52:17.465694817Z"
    }
   },
   "outputs": [],
   "source": [
    "# Fill with a \"None\" string for EDA and add has_image field\n",
    "df[\"brands\"] = df[\"brands\"].fillna(\"None\")\n",
    "df[\"main_category_en\"] = df[\"main_category_en\"].fillna(\"None\")\n",
    "df[\"packaging\"] = df[\"packaging\"].fillna(\"None\")\n",
    "df[\"creator\"] = df[\"creator\"].fillna(\"None\")\n",
    "df[\"countries_en\"] = df[\"countries_en\"].fillna(\"None\")\n",
    "df[\"has_image\"] = df[\"image_url\"].isna()\n",
    "del df[\"image_url\"]"
   ]
  },
  {
   "cell_type": "markdown",
   "id": "cbdc66bf",
   "metadata": {},
   "source": [
    "<br>\n",
    "\n",
    "<font size=\"5\"> **2. Pre-process the data - handling and filling unknowns**</font>\n",
    "\n",
    "<br>"
   ]
  },
  {
   "cell_type": "code",
   "execution_count": 287,
   "id": "d545532f",
   "metadata": {
    "ExecuteTime": {
     "end_time": "2023-05-30T13:52:20.950840669Z",
     "start_time": "2023-05-30T13:52:17.466160788Z"
    }
   },
   "outputs": [
    {
     "data": {
      "text/html": [
       "<div>\n",
       "<style scoped>\n",
       "    .dataframe tbody tr th:only-of-type {\n",
       "        vertical-align: middle;\n",
       "    }\n",
       "\n",
       "    .dataframe tbody tr th {\n",
       "        vertical-align: top;\n",
       "    }\n",
       "\n",
       "    .dataframe thead th {\n",
       "        text-align: right;\n",
       "    }\n",
       "</style>\n",
       "<table border=\"1\" class=\"dataframe\">\n",
       "  <thead>\n",
       "    <tr style=\"text-align: right;\">\n",
       "      <th></th>\n",
       "      <th>creator</th>\n",
       "      <th>countries_en</th>\n",
       "      <th>brands</th>\n",
       "      <th>main_category_en</th>\n",
       "      <th>packaging</th>\n",
       "      <th>fat_100g</th>\n",
       "      <th>energy_100g</th>\n",
       "      <th>carbohydrates_100g</th>\n",
       "      <th>proteins_100g</th>\n",
       "      <th>salt_100g</th>\n",
       "      <th>sugars_100g</th>\n",
       "      <th>saturated-fat_100g</th>\n",
       "      <th>has_image</th>\n",
       "    </tr>\n",
       "  </thead>\n",
       "  <tbody>\n",
       "    <tr>\n",
       "      <th>10</th>\n",
       "      <td>tacinte</td>\n",
       "      <td>United Kingdom</td>\n",
       "      <td>Asda,Asda Extra Special</td>\n",
       "      <td>Desserts</td>\n",
       "      <td>plastic,bowl</td>\n",
       "      <td>7</td>\n",
       "      <td>1284</td>\n",
       "      <td>54.2</td>\n",
       "      <td>3.9</td>\n",
       "      <td>0.2</td>\n",
       "      <td>44</td>\n",
       "      <td>3.6</td>\n",
       "      <td>False</td>\n",
       "    </tr>\n",
       "    <tr>\n",
       "      <th>11</th>\n",
       "      <td>tacinte</td>\n",
       "      <td>United Kingdom</td>\n",
       "      <td>Asda,Asda Extra Special</td>\n",
       "      <td>Sugary snacks</td>\n",
       "      <td>plastic,bowl</td>\n",
       "      <td>7</td>\n",
       "      <td>1284</td>\n",
       "      <td>54.2</td>\n",
       "      <td>3.9</td>\n",
       "      <td>0.199898</td>\n",
       "      <td>44</td>\n",
       "      <td>3.6</td>\n",
       "      <td>False</td>\n",
       "    </tr>\n",
       "    <tr>\n",
       "      <th>13</th>\n",
       "      <td>andre</td>\n",
       "      <td>France</td>\n",
       "      <td>Pepsi</td>\n",
       "      <td>Beverages</td>\n",
       "      <td>Canette aluminium</td>\n",
       "      <td>0</td>\n",
       "      <td>177</td>\n",
       "      <td>10.4</td>\n",
       "      <td>0</td>\n",
       "      <td>0.0254</td>\n",
       "      <td>10.4</td>\n",
       "      <td>0</td>\n",
       "      <td>False</td>\n",
       "    </tr>\n",
       "    <tr>\n",
       "      <th>16</th>\n",
       "      <td>tacite</td>\n",
       "      <td>France</td>\n",
       "      <td>7Up,Pepsico</td>\n",
       "      <td>Beverages</td>\n",
       "      <td>Canette</td>\n",
       "      <td>0</td>\n",
       "      <td>177</td>\n",
       "      <td>10.4</td>\n",
       "      <td>0</td>\n",
       "      <td>0.1</td>\n",
       "      <td>10.4</td>\n",
       "      <td>0</td>\n",
       "      <td>False</td>\n",
       "    </tr>\n",
       "    <tr>\n",
       "      <th>24</th>\n",
       "      <td>malikele</td>\n",
       "      <td>Germany</td>\n",
       "      <td>Candy Crush</td>\n",
       "      <td>Sugary snacks</td>\n",
       "      <td>None</td>\n",
       "      <td>0</td>\n",
       "      <td>1360</td>\n",
       "      <td>75</td>\n",
       "      <td>5</td>\n",
       "      <td>0.127</td>\n",
       "      <td>57.5</td>\n",
       "      <td>0</td>\n",
       "      <td>False</td>\n",
       "    </tr>\n",
       "    <tr>\n",
       "      <th>...</th>\n",
       "      <td>...</td>\n",
       "      <td>...</td>\n",
       "      <td>...</td>\n",
       "      <td>...</td>\n",
       "      <td>...</td>\n",
       "      <td>...</td>\n",
       "      <td>...</td>\n",
       "      <td>...</td>\n",
       "      <td>...</td>\n",
       "      <td>...</td>\n",
       "      <td>...</td>\n",
       "      <td>...</td>\n",
       "      <td>...</td>\n",
       "    </tr>\n",
       "    <tr>\n",
       "      <th>78207</th>\n",
       "      <td>kyzh</td>\n",
       "      <td>United Kingdom</td>\n",
       "      <td>princes</td>\n",
       "      <td>Tuna-chunks</td>\n",
       "      <td>canned</td>\n",
       "      <td>0.5</td>\n",
       "      <td>444</td>\n",
       "      <td>0</td>\n",
       "      <td>25</td>\n",
       "      <td>0.762</td>\n",
       "      <td>0</td>\n",
       "      <td>0</td>\n",
       "      <td>False</td>\n",
       "    </tr>\n",
       "    <tr>\n",
       "      <th>78209</th>\n",
       "      <td>tacinte</td>\n",
       "      <td>United Kingdom</td>\n",
       "      <td>Newman's Own</td>\n",
       "      <td>Groceries</td>\n",
       "      <td>Glass,Bottle</td>\n",
       "      <td>53.3</td>\n",
       "      <td>2111</td>\n",
       "      <td>6.4</td>\n",
       "      <td>1.7</td>\n",
       "      <td>1.75006</td>\n",
       "      <td>5.3</td>\n",
       "      <td>3.8</td>\n",
       "      <td>False</td>\n",
       "    </tr>\n",
       "    <tr>\n",
       "      <th>78210</th>\n",
       "      <td>tacinte</td>\n",
       "      <td>United Kingdom</td>\n",
       "      <td>Newman's Own</td>\n",
       "      <td>Groceries</td>\n",
       "      <td>Glass,Bottle</td>\n",
       "      <td>6.9</td>\n",
       "      <td>660</td>\n",
       "      <td>23.1</td>\n",
       "      <td>0.3</td>\n",
       "      <td>0.54102</td>\n",
       "      <td>16.7</td>\n",
       "      <td>0.5</td>\n",
       "      <td>False</td>\n",
       "    </tr>\n",
       "    <tr>\n",
       "      <th>78235</th>\n",
       "      <td>drmalabar</td>\n",
       "      <td>France</td>\n",
       "      <td>Le Pain des fleurs</td>\n",
       "      <td>Plant-based foods and beverages</td>\n",
       "      <td>Boîte,Carton,Sachet,Plastique</td>\n",
       "      <td>2.8</td>\n",
       "      <td>1643</td>\n",
       "      <td>74.8</td>\n",
       "      <td>13</td>\n",
       "      <td>0.68</td>\n",
       "      <td>2.6</td>\n",
       "      <td>0.6</td>\n",
       "      <td>False</td>\n",
       "    </tr>\n",
       "    <tr>\n",
       "      <th>78242</th>\n",
       "      <td>balooval</td>\n",
       "      <td>France</td>\n",
       "      <td>Lobodis</td>\n",
       "      <td>Beverages</td>\n",
       "      <td>boîte,carton</td>\n",
       "      <td>0.2</td>\n",
       "      <td>21</td>\n",
       "      <td>0.5</td>\n",
       "      <td>0.5</td>\n",
       "      <td>0.0254</td>\n",
       "      <td>0.5</td>\n",
       "      <td>0.2</td>\n",
       "      <td>False</td>\n",
       "    </tr>\n",
       "  </tbody>\n",
       "</table>\n",
       "<p>36732 rows × 13 columns</p>\n",
       "</div>"
      ],
      "text/plain": [
       "         creator    countries_en                   brands  \\\n",
       "10       tacinte  United Kingdom  Asda,Asda Extra Special   \n",
       "11       tacinte  United Kingdom  Asda,Asda Extra Special   \n",
       "13         andre          France                    Pepsi   \n",
       "16        tacite          France              7Up,Pepsico   \n",
       "24      malikele         Germany              Candy Crush   \n",
       "...          ...             ...                      ...   \n",
       "78207       kyzh  United Kingdom                  princes   \n",
       "78209    tacinte  United Kingdom             Newman's Own   \n",
       "78210    tacinte  United Kingdom             Newman's Own   \n",
       "78235  drmalabar          France       Le Pain des fleurs   \n",
       "78242   balooval          France                  Lobodis   \n",
       "\n",
       "                      main_category_en                      packaging  \\\n",
       "10                            Desserts                   plastic,bowl   \n",
       "11                       Sugary snacks                   plastic,bowl   \n",
       "13                           Beverages              Canette aluminium   \n",
       "16                           Beverages                        Canette   \n",
       "24                       Sugary snacks                           None   \n",
       "...                                ...                            ...   \n",
       "78207                      Tuna-chunks                         canned   \n",
       "78209                        Groceries                   Glass,Bottle   \n",
       "78210                        Groceries                   Glass,Bottle   \n",
       "78235  Plant-based foods and beverages  Boîte,Carton,Sachet,Plastique   \n",
       "78242                        Beverages                   boîte,carton   \n",
       "\n",
       "      fat_100g energy_100g carbohydrates_100g proteins_100g salt_100g  \\\n",
       "10           7        1284               54.2           3.9       0.2   \n",
       "11           7        1284               54.2           3.9  0.199898   \n",
       "13           0         177               10.4             0    0.0254   \n",
       "16           0         177               10.4             0       0.1   \n",
       "24           0        1360                 75             5     0.127   \n",
       "...        ...         ...                ...           ...       ...   \n",
       "78207      0.5         444                  0            25     0.762   \n",
       "78209     53.3        2111                6.4           1.7   1.75006   \n",
       "78210      6.9         660               23.1           0.3   0.54102   \n",
       "78235      2.8        1643               74.8            13      0.68   \n",
       "78242      0.2          21                0.5           0.5    0.0254   \n",
       "\n",
       "      sugars_100g saturated-fat_100g  has_image  \n",
       "10             44                3.6      False  \n",
       "11             44                3.6      False  \n",
       "13           10.4                  0      False  \n",
       "16           10.4                  0      False  \n",
       "24           57.5                  0      False  \n",
       "...           ...                ...        ...  \n",
       "78207           0                  0      False  \n",
       "78209         5.3                3.8      False  \n",
       "78210        16.7                0.5      False  \n",
       "78235         2.6                0.6      False  \n",
       "78242         0.5                0.2      False  \n",
       "\n",
       "[36732 rows x 13 columns]"
      ]
     },
     "execution_count": 287,
     "metadata": {},
     "output_type": "execute_result"
    }
   ],
   "source": [
    "# For this assignment we decided to drop the rows without nutritional data,\n",
    "#since they are critical for the clustering part and cannot be filled using interpolation or similar techniques\n",
    "df = df.dropna()\n",
    "df"
   ]
  },
  {
   "cell_type": "code",
   "execution_count": 288,
   "id": "a0f278c5",
   "metadata": {
    "ExecuteTime": {
     "end_time": "2023-05-30T13:52:20.993433923Z",
     "start_time": "2023-05-30T13:52:17.469676140Z"
    }
   },
   "outputs": [],
   "source": [
    "for i in nutri_features:\n",
    "    df[i] = pd.to_numeric(df[i])"
   ]
  },
  {
   "cell_type": "code",
   "execution_count": 289,
   "id": "5b17bfd4",
   "metadata": {
    "ExecuteTime": {
     "end_time": "2023-05-30T13:52:21.079114072Z",
     "start_time": "2023-05-30T13:52:17.470188097Z"
    }
   },
   "outputs": [
    {
     "data": {
      "text/html": [
       "<div>\n",
       "<style scoped>\n",
       "    .dataframe tbody tr th:only-of-type {\n",
       "        vertical-align: middle;\n",
       "    }\n",
       "\n",
       "    .dataframe tbody tr th {\n",
       "        vertical-align: top;\n",
       "    }\n",
       "\n",
       "    .dataframe thead th {\n",
       "        text-align: right;\n",
       "    }\n",
       "</style>\n",
       "<table border=\"1\" class=\"dataframe\">\n",
       "  <thead>\n",
       "    <tr style=\"text-align: right;\">\n",
       "      <th></th>\n",
       "      <th>creator</th>\n",
       "      <th>countries_en</th>\n",
       "      <th>brands</th>\n",
       "      <th>main_category_en</th>\n",
       "      <th>packaging</th>\n",
       "      <th>fat_100g</th>\n",
       "      <th>energy_100g</th>\n",
       "      <th>carbohydrates_100g</th>\n",
       "      <th>proteins_100g</th>\n",
       "      <th>salt_100g</th>\n",
       "      <th>sugars_100g</th>\n",
       "      <th>saturated-fat_100g</th>\n",
       "      <th>has_image</th>\n",
       "    </tr>\n",
       "  </thead>\n",
       "  <tbody>\n",
       "    <tr>\n",
       "      <th>10</th>\n",
       "      <td>tacinte</td>\n",
       "      <td>United Kingdom</td>\n",
       "      <td>Asda,Asda Extra Special</td>\n",
       "      <td>Desserts</td>\n",
       "      <td>plastic,bowl</td>\n",
       "      <td>7.0</td>\n",
       "      <td>1284.0</td>\n",
       "      <td>54.2</td>\n",
       "      <td>3.9</td>\n",
       "      <td>0.200000</td>\n",
       "      <td>44.0</td>\n",
       "      <td>3.6</td>\n",
       "      <td>False</td>\n",
       "    </tr>\n",
       "    <tr>\n",
       "      <th>11</th>\n",
       "      <td>tacinte</td>\n",
       "      <td>United Kingdom</td>\n",
       "      <td>Asda,Asda Extra Special</td>\n",
       "      <td>Sugary snacks</td>\n",
       "      <td>plastic,bowl</td>\n",
       "      <td>7.0</td>\n",
       "      <td>1284.0</td>\n",
       "      <td>54.2</td>\n",
       "      <td>3.9</td>\n",
       "      <td>0.199898</td>\n",
       "      <td>44.0</td>\n",
       "      <td>3.6</td>\n",
       "      <td>False</td>\n",
       "    </tr>\n",
       "    <tr>\n",
       "      <th>13</th>\n",
       "      <td>andre</td>\n",
       "      <td>France</td>\n",
       "      <td>Pepsi</td>\n",
       "      <td>Beverages</td>\n",
       "      <td>Canette aluminium</td>\n",
       "      <td>0.0</td>\n",
       "      <td>177.0</td>\n",
       "      <td>10.4</td>\n",
       "      <td>0.0</td>\n",
       "      <td>0.025400</td>\n",
       "      <td>10.4</td>\n",
       "      <td>0.0</td>\n",
       "      <td>False</td>\n",
       "    </tr>\n",
       "    <tr>\n",
       "      <th>16</th>\n",
       "      <td>tacite</td>\n",
       "      <td>France</td>\n",
       "      <td>7Up,Pepsico</td>\n",
       "      <td>Beverages</td>\n",
       "      <td>Canette</td>\n",
       "      <td>0.0</td>\n",
       "      <td>177.0</td>\n",
       "      <td>10.4</td>\n",
       "      <td>0.0</td>\n",
       "      <td>0.100000</td>\n",
       "      <td>10.4</td>\n",
       "      <td>0.0</td>\n",
       "      <td>False</td>\n",
       "    </tr>\n",
       "    <tr>\n",
       "      <th>24</th>\n",
       "      <td>malikele</td>\n",
       "      <td>Germany</td>\n",
       "      <td>Candy Crush</td>\n",
       "      <td>Sugary snacks</td>\n",
       "      <td>None</td>\n",
       "      <td>0.0</td>\n",
       "      <td>1360.0</td>\n",
       "      <td>75.0</td>\n",
       "      <td>5.0</td>\n",
       "      <td>0.127000</td>\n",
       "      <td>57.5</td>\n",
       "      <td>0.0</td>\n",
       "      <td>False</td>\n",
       "    </tr>\n",
       "    <tr>\n",
       "      <th>...</th>\n",
       "      <td>...</td>\n",
       "      <td>...</td>\n",
       "      <td>...</td>\n",
       "      <td>...</td>\n",
       "      <td>...</td>\n",
       "      <td>...</td>\n",
       "      <td>...</td>\n",
       "      <td>...</td>\n",
       "      <td>...</td>\n",
       "      <td>...</td>\n",
       "      <td>...</td>\n",
       "      <td>...</td>\n",
       "      <td>...</td>\n",
       "    </tr>\n",
       "    <tr>\n",
       "      <th>78207</th>\n",
       "      <td>kyzh</td>\n",
       "      <td>United Kingdom</td>\n",
       "      <td>princes</td>\n",
       "      <td>Tuna-chunks</td>\n",
       "      <td>canned</td>\n",
       "      <td>0.5</td>\n",
       "      <td>444.0</td>\n",
       "      <td>0.0</td>\n",
       "      <td>25.0</td>\n",
       "      <td>0.762000</td>\n",
       "      <td>0.0</td>\n",
       "      <td>0.0</td>\n",
       "      <td>False</td>\n",
       "    </tr>\n",
       "    <tr>\n",
       "      <th>78209</th>\n",
       "      <td>tacinte</td>\n",
       "      <td>United Kingdom</td>\n",
       "      <td>Newman's Own</td>\n",
       "      <td>Groceries</td>\n",
       "      <td>Glass,Bottle</td>\n",
       "      <td>53.3</td>\n",
       "      <td>2111.0</td>\n",
       "      <td>6.4</td>\n",
       "      <td>1.7</td>\n",
       "      <td>1.750060</td>\n",
       "      <td>5.3</td>\n",
       "      <td>3.8</td>\n",
       "      <td>False</td>\n",
       "    </tr>\n",
       "    <tr>\n",
       "      <th>78210</th>\n",
       "      <td>tacinte</td>\n",
       "      <td>United Kingdom</td>\n",
       "      <td>Newman's Own</td>\n",
       "      <td>Groceries</td>\n",
       "      <td>Glass,Bottle</td>\n",
       "      <td>6.9</td>\n",
       "      <td>660.0</td>\n",
       "      <td>23.1</td>\n",
       "      <td>0.3</td>\n",
       "      <td>0.541020</td>\n",
       "      <td>16.7</td>\n",
       "      <td>0.5</td>\n",
       "      <td>False</td>\n",
       "    </tr>\n",
       "    <tr>\n",
       "      <th>78235</th>\n",
       "      <td>drmalabar</td>\n",
       "      <td>France</td>\n",
       "      <td>Le Pain des fleurs</td>\n",
       "      <td>Plant-based foods and beverages</td>\n",
       "      <td>Boîte,Carton,Sachet,Plastique</td>\n",
       "      <td>2.8</td>\n",
       "      <td>1643.0</td>\n",
       "      <td>74.8</td>\n",
       "      <td>13.0</td>\n",
       "      <td>0.680000</td>\n",
       "      <td>2.6</td>\n",
       "      <td>0.6</td>\n",
       "      <td>False</td>\n",
       "    </tr>\n",
       "    <tr>\n",
       "      <th>78242</th>\n",
       "      <td>balooval</td>\n",
       "      <td>France</td>\n",
       "      <td>Lobodis</td>\n",
       "      <td>Beverages</td>\n",
       "      <td>boîte,carton</td>\n",
       "      <td>0.2</td>\n",
       "      <td>21.0</td>\n",
       "      <td>0.5</td>\n",
       "      <td>0.5</td>\n",
       "      <td>0.025400</td>\n",
       "      <td>0.5</td>\n",
       "      <td>0.2</td>\n",
       "      <td>False</td>\n",
       "    </tr>\n",
       "  </tbody>\n",
       "</table>\n",
       "<p>36732 rows × 13 columns</p>\n",
       "</div>"
      ],
      "text/plain": [
       "         creator    countries_en                   brands  \\\n",
       "10       tacinte  United Kingdom  Asda,Asda Extra Special   \n",
       "11       tacinte  United Kingdom  Asda,Asda Extra Special   \n",
       "13         andre          France                    Pepsi   \n",
       "16        tacite          France              7Up,Pepsico   \n",
       "24      malikele         Germany              Candy Crush   \n",
       "...          ...             ...                      ...   \n",
       "78207       kyzh  United Kingdom                  princes   \n",
       "78209    tacinte  United Kingdom             Newman's Own   \n",
       "78210    tacinte  United Kingdom             Newman's Own   \n",
       "78235  drmalabar          France       Le Pain des fleurs   \n",
       "78242   balooval          France                  Lobodis   \n",
       "\n",
       "                      main_category_en                      packaging  \\\n",
       "10                            Desserts                   plastic,bowl   \n",
       "11                       Sugary snacks                   plastic,bowl   \n",
       "13                           Beverages              Canette aluminium   \n",
       "16                           Beverages                        Canette   \n",
       "24                       Sugary snacks                           None   \n",
       "...                                ...                            ...   \n",
       "78207                      Tuna-chunks                         canned   \n",
       "78209                        Groceries                   Glass,Bottle   \n",
       "78210                        Groceries                   Glass,Bottle   \n",
       "78235  Plant-based foods and beverages  Boîte,Carton,Sachet,Plastique   \n",
       "78242                        Beverages                   boîte,carton   \n",
       "\n",
       "       fat_100g  energy_100g  carbohydrates_100g  proteins_100g  salt_100g  \\\n",
       "10          7.0       1284.0                54.2            3.9   0.200000   \n",
       "11          7.0       1284.0                54.2            3.9   0.199898   \n",
       "13          0.0        177.0                10.4            0.0   0.025400   \n",
       "16          0.0        177.0                10.4            0.0   0.100000   \n",
       "24          0.0       1360.0                75.0            5.0   0.127000   \n",
       "...         ...          ...                 ...            ...        ...   \n",
       "78207       0.5        444.0                 0.0           25.0   0.762000   \n",
       "78209      53.3       2111.0                 6.4            1.7   1.750060   \n",
       "78210       6.9        660.0                23.1            0.3   0.541020   \n",
       "78235       2.8       1643.0                74.8           13.0   0.680000   \n",
       "78242       0.2         21.0                 0.5            0.5   0.025400   \n",
       "\n",
       "       sugars_100g  saturated-fat_100g  has_image  \n",
       "10            44.0                 3.6      False  \n",
       "11            44.0                 3.6      False  \n",
       "13            10.4                 0.0      False  \n",
       "16            10.4                 0.0      False  \n",
       "24            57.5                 0.0      False  \n",
       "...            ...                 ...        ...  \n",
       "78207          0.0                 0.0      False  \n",
       "78209          5.3                 3.8      False  \n",
       "78210         16.7                 0.5      False  \n",
       "78235          2.6                 0.6      False  \n",
       "78242          0.5                 0.2      False  \n",
       "\n",
       "[36732 rows x 13 columns]"
      ]
     },
     "execution_count": 289,
     "metadata": {},
     "output_type": "execute_result"
    }
   ],
   "source": [
    "df"
   ]
  },
  {
   "cell_type": "code",
   "execution_count": 290,
   "id": "076fe006",
   "metadata": {
    "ExecuteTime": {
     "end_time": "2023-05-30T14:07:14.640184173Z",
     "start_time": "2023-05-30T14:07:14.446841655Z"
    }
   },
   "outputs": [
    {
     "data": {
      "text/plain": [
       "Text(0, 0.5, 'Count')"
      ]
     },
     "execution_count": 290,
     "metadata": {},
     "output_type": "execute_result"
    },
    {
     "data": {
      "image/png": "[encoded data removed]",
      "text/plain": [
       "<Figure size 576x396 with 1 Axes>"
      ]
     },
     "metadata": {},
     "output_type": "display_data"
    }
   ],
   "source": [
    "#EDA\n",
    "top_countries = df.groupby(\"countries_en\").size().sort_values(ascending=False).head(10).index\n",
    "df.groupby(\"countries_en\").size().sort_values(ascending=False).head(10).plot(kind=\"bar\")\n",
    "plt.title(\"10 countries with most entries\")\n",
    "plt.ylabel(\"Count\")"
   ]
  },
  {
   "cell_type": "code",
   "execution_count": 342,
   "id": "a4934afb",
   "metadata": {
    "ExecuteTime": {
     "end_time": "2023-05-30T14:07:22.999588755Z",
     "start_time": "2023-05-30T14:07:22.992656533Z"
    }
   },
   "outputs": [
    {
     "data": {
      "text/plain": [
       "Index(['France', 'Germany', 'Spain', 'United Kingdom', 'United States',\n",
       "       'Switzerland', 'Belgium', 'Australia', 'Portugal', 'Italy'],\n",
       "      dtype='object', name='countries_en')"
      ]
     },
     "execution_count": 342,
     "metadata": {},
     "output_type": "execute_result"
    }
   ],
   "source": [
    "## showing the top countries for the food in the dataset\n",
    "top_countries"
   ]
  },
  {
   "cell_type": "markdown",
   "id": "406005e5",
   "metadata": {},
   "source": [
    "<font size=\"3\">Question - Which country consumes the most energy for food?</font>"
   ]
  },
  {
   "cell_type": "code",
   "execution_count": 292,
   "id": "365668c6",
   "metadata": {
    "ExecuteTime": {
     "end_time": "2023-05-30T14:16:35.600630518Z",
     "start_time": "2023-05-30T14:16:35.419179513Z"
    }
   },
   "outputs": [
    {
     "data": {
      "text/plain": [
       "Text(0, 0.5, 'Energy 100g')"
      ]
     },
     "execution_count": 292,
     "metadata": {},
     "output_type": "execute_result"
    },
    {
     "data": {
      "image/png": "[encoded data removed]",
      "text/plain": [
       "<Figure size 576x396 with 1 Axes>"
      ]
     },
     "metadata": {},
     "output_type": "display_data"
    }
   ],
   "source": [
    "g = df.groupby(\"countries_en\")[\"energy_100g\"].mean()\n",
    "g[top_countries].plot(kind=\"bar\")\n",
    "plt.title(\"Mean energy for top 10 countries\")\n",
    "plt.ylabel(\"Energy 100g\")"
   ]
  },
  {
   "cell_type": "markdown",
   "id": "c5baa519",
   "metadata": {},
   "source": [
    "<font size=\"3\">Question - What the popular category for food?</font>"
   ]
  },
  {
   "cell_type": "code",
   "execution_count": 334,
   "id": "39aeed5f",
   "metadata": {
    "ExecuteTime": {
     "end_time": "2023-05-30T14:12:33.535211422Z",
     "start_time": "2023-05-30T14:12:33.297022933Z"
    }
   },
   "outputs": [
    {
     "data": {
      "text/plain": [
       "Text(0, 0.5, 'Count')"
      ]
     },
     "execution_count": 334,
     "metadata": {},
     "output_type": "execute_result"
    },
    {
     "data": {
      "image/png": "[encoded data removed]",
      "text/plain": [
       "<Figure size 576x396 with 1 Axes>"
      ]
     },
     "metadata": {},
     "output_type": "display_data"
    }
   ],
   "source": [
    "top_cat = df.groupby(\"main_category_en\").size().sort_values(ascending=False).head(10).index\n",
    "df.groupby(\"main_category_en\").size().sort_values(ascending=False).head(10).plot(kind=\"bar\")\n",
    "plt.title(\"Top 10 popular main food category\")\n",
    "plt.ylabel(\"Count\")"
   ]
  },
  {
   "cell_type": "markdown",
   "id": "28ee2364",
   "metadata": {},
   "source": [
    "<font size=\"3\">Question - What food has the highest energy?</font>"
   ]
  },
  {
   "cell_type": "code",
   "execution_count": 341,
   "id": "f4f1439e",
   "metadata": {
    "ExecuteTime": {
     "end_time": "2023-05-30T14:17:06.919783168Z",
     "start_time": "2023-05-30T14:17:06.737547114Z"
    }
   },
   "outputs": [
    {
     "data": {
      "text/plain": [
       "Text(0, 0.5, 'Energy 100g')"
      ]
     },
     "execution_count": 341,
     "metadata": {},
     "output_type": "execute_result"
    },
    {
     "data": {
      "image/png": "[encoded data removed]",
      "text/plain": [
       "<Figure size 576x396 with 1 Axes>"
      ]
     },
     "metadata": {},
     "output_type": "display_data"
    }
   ],
   "source": [
    "g = df.groupby(\"main_category_en\")[\"energy_100g\"].mean()\n",
    "g[top_cat].plot(kind=\"bar\")\n",
    "plt.title(\"Average energy for top 10 food categories\")\n",
    "plt.ylabel(\"Energy 100g\")"
   ]
  },
  {
   "cell_type": "code",
   "execution_count": 295,
   "id": "266e28d5",
   "metadata": {},
   "outputs": [
    {
     "data": {
      "image/png": "[encoded data removed]",
      "text/plain": [
       "<Figure size 864x864 with 2 Axes>"
      ]
     },
     "metadata": {},
     "output_type": "display_data"
    }
   ],
   "source": [
    "### To see the correlation between the nutrients in the data\n",
    "##analses this and reach observative conclusion\n",
    "corr_matrix = df.corr()\n",
    "###viduslising the correlation\n",
    "fig = plt.figure(figsize=(12,12))\n",
    "sns.heatmap(corr_matrix, annot=True, square = True,annot_kws={\"size\":10})\n",
    "plt.show()"
   ]
  },
  {
   "cell_type": "markdown",
   "id": "06174c84",
   "metadata": {},
   "source": [
    "<br>\n",
    "\n",
    "<font size=\"5\"> **2. Clustering comparison** </font>\n",
    "\n",
    "<br>"
   ]
  },
  {
   "cell_type": "code",
   "execution_count": 296,
   "id": "a1697182",
   "metadata": {
    "ExecuteTime": {
     "end_time": "2023-05-30T14:19:45.209212668Z",
     "start_time": "2023-05-30T14:19:44.620626290Z"
    }
   },
   "outputs": [],
   "source": [
    "###making a cluster of the nutritional features\n",
    "cluster_data = StandardScaler().fit_transform(df[nutri_features].values)"
   ]
  },
  {
   "cell_type": "code",
   "execution_count": 297,
   "id": "dda247c1",
   "metadata": {
    "ExecuteTime": {
     "end_time": "2023-05-30T14:19:45.209713527Z",
     "start_time": "2023-05-30T14:19:45.201752530Z"
    }
   },
   "outputs": [
    {
     "data": {
      "text/plain": [
       "array([[-0.36137393,  0.24283187,  0.95109412, ..., -0.22882275,\n",
       "         1.71429646, -0.20463231],\n",
       "       [-0.36137393,  0.24283187,  0.95109412, ..., -0.22884969,\n",
       "         1.71429646, -0.20463231],\n",
       "       [-0.77884709, -1.17697325, -0.64732129, ..., -0.27493426,\n",
       "        -0.13188415, -0.65583356],\n",
       "       ...,\n",
       "       [-0.36733784, -0.55749188, -0.18385381, ..., -0.13876006,\n",
       "         0.21427471, -0.59316672],\n",
       "       [-0.61185783,  0.70327454,  1.70286027, ..., -0.10205572,\n",
       "        -0.56046179, -0.58063335],\n",
       "       [-0.76691929, -1.37705418, -1.00860696, ..., -0.27493426,\n",
       "        -0.67584808, -0.63076682]])"
      ]
     },
     "execution_count": 297,
     "metadata": {},
     "output_type": "execute_result"
    }
   ],
   "source": [
    "cluster_data"
   ]
  },
  {
   "cell_type": "code",
   "execution_count": 331,
   "id": "6a20b38c",
   "metadata": {},
   "outputs": [
    {
     "data": {
      "text/plain": [
       "Text(-1.0, 3.6, 'Clustering took 0.02 s')"
      ]
     },
     "execution_count": 331,
     "metadata": {},
     "output_type": "execute_result"
    },
    {
     "data": {
      "image/png": "[encoded data removed]",
      "text/plain": [
       "<Figure size 576x576 with 1 Axes>"
      ]
     },
     "metadata": {},
     "output_type": "display_data"
    }
   ],
   "source": [
    "###plotting the cluster data without any clustering algorithms\n",
    "## clustering of data, but its useless as it does not tell us anything about the clustering\n",
    "start_time = time.time()\n",
    "###add colur to it and see which is more similar to the algortihm or something\n",
    "plt.figure(figsize=(8,8))\n",
    "plt.scatter(cluster_data.T[0], cluster_data.T[1], c='b')\n",
    "frame = plt.gca()\n",
    "end_time = time.time()\n",
    "plt.title('Normal Cluster', fontsize=24)\n",
    "plt.text(-1.0, 3.6, 'Clustering took {:.2f} s'.format(end_time - start_time), fontsize=14)"
   ]
  },
  {
   "cell_type": "markdown",
   "id": "40c44c0e",
   "metadata": {},
   "source": [
    "<br>\n",
    "\n",
    "<font size=\"3\"> K-Means</font>\n",
    "\n",
    "<br>"
   ]
  },
  {
   "cell_type": "markdown",
   "id": "460f4a34",
   "metadata": {},
   "source": [
    "<font size=\"3\">Question - What is the most optimal number of clusters?</font>"
   ]
  },
  {
   "cell_type": "code",
   "execution_count": 298,
   "id": "a15bae97",
   "metadata": {
    "ExecuteTime": {
     "end_time": "2023-05-30T14:20:11.993094746Z",
     "start_time": "2023-05-30T14:19:45.203567584Z"
    }
   },
   "outputs": [
    {
     "data": {
      "image/png": "[encoded data removed]",
      "text/plain": [
       "<Figure size 576x396 with 2 Axes>"
      ]
     },
     "metadata": {},
     "output_type": "display_data"
    },
    {
     "data": {
      "text/plain": [
       "<AxesSubplot:title={'center':'Distortion Score Elbow for KMeans Clustering'}, xlabel='k', ylabel='distortion score'>"
      ]
     },
     "execution_count": 298,
     "metadata": {},
     "output_type": "execute_result"
    }
   ],
   "source": [
    "###using kmeans here\n",
    "# Instantiate the clustering model and visualizer\n",
    "##tells us the optimal number of clustering for kmeans clustering\n",
    "##since our blue line represents an arm, our kmeans range of 2-25 is correct, so in this case 6 is the optimal number\n",
    "\n",
    "model = KMeans()\n",
    "visualizer = KElbowVisualizer(model, k=(2,15))\n",
    "\n",
    "visualizer.fit(cluster_data)        # Fit the data to the visualizer\n",
    "visualizer.show()        # Finalize and render the figure"
   ]
  },
  {
   "cell_type": "code",
   "execution_count": 299,
   "id": "431f2b25",
   "metadata": {
    "ExecuteTime": {
     "end_time": "2023-05-30T14:20:27.255888140Z",
     "start_time": "2023-05-30T14:20:11.995868487Z"
    }
   },
   "outputs": [
    {
     "name": "stdout",
     "output_type": "stream",
     "text": [
      "0.413662829931127\n",
      "(array([0, 1, 2, 3, 4, 5]), array([15770,  6535,   110,  6486,  1734,  6097], dtype=int64))\n"
     ]
    }
   ],
   "source": [
    "\n",
    "kmeans = KMeans(n_clusters=6)\n",
    "labels = kmeans.fit_predict(cluster_data)\n",
    "centroids  = kmeans.cluster_centers_\n",
    "print(silhouette_score(cluster_data, labels))\n",
    "print(np.unique(labels, return_counts=True))\n",
    "df[\"label_kmean6\"] = labels"
   ]
  },
  {
   "cell_type": "code",
   "execution_count": 301,
   "id": "13cc8f42",
   "metadata": {},
   "outputs": [],
   "source": [
    "##for visualising the clusters more clearly\n",
    "\n",
    "def plot_clusters(data, algorithm, args, kwds):\n",
    "    start_time = time.time()\n",
    "    labels = algorithm(*args, **kwds).fit_predict(data)\n",
    "    end_time = time.time()\n",
    "    palette = sn.color_palette('deep', np.unique(labels).max() + 1)\n",
    "    colors = [palette[x] if x >= 0 else (0.0, 0.0, 0.0) for x in labels]\n",
    "    plt.scatter(data.T[0], data.T[1], c=colors)\n",
    "    frame = plt.gca()\n",
    "    frame.axes.get_xaxis().set_visible(False)\n",
    "    frame.axes.get_yaxis().set_visible(False)\n",
    "    plt.title('Clusters found by {}'.format(str(algorithm.__name__)), fontsize=24)\n",
    "    plt.text(-1.0, 3.6, 'Clustering took {:.2f} s'.format(end_time - start_time), fontsize=14)"
   ]
  },
  {
   "cell_type": "code",
   "execution_count": 302,
   "id": "4377e286",
   "metadata": {},
   "outputs": [
    {
     "data": {
      "image/png": "[encoded data removed]",
      "text/plain": [
       "<Figure size 576x396 with 1 Axes>"
      ]
     },
     "metadata": {},
     "output_type": "display_data"
    }
   ],
   "source": [
    "##6 clusters are chosen as it is the optimal clustering number\n",
    "plot_clusters(cluster_data, cluster.KMeans, (), {'n_clusters':6})"
   ]
  },
  {
   "cell_type": "code",
   "execution_count": 303,
   "id": "5ae84236",
   "metadata": {
    "ExecuteTime": {
     "end_time": "2023-05-30T14:20:27.296251162Z",
     "start_time": "2023-05-30T14:20:27.259581146Z"
    }
   },
   "outputs": [
    {
     "data": {
      "text/html": [
       "<div>\n",
       "<style scoped>\n",
       "    .dataframe tbody tr th:only-of-type {\n",
       "        vertical-align: middle;\n",
       "    }\n",
       "\n",
       "    .dataframe tbody tr th {\n",
       "        vertical-align: top;\n",
       "    }\n",
       "\n",
       "    .dataframe thead th {\n",
       "        text-align: right;\n",
       "    }\n",
       "</style>\n",
       "<table border=\"1\" class=\"dataframe\">\n",
       "  <thead>\n",
       "    <tr style=\"text-align: right;\">\n",
       "      <th></th>\n",
       "      <th>fat_100g</th>\n",
       "      <th>energy_100g</th>\n",
       "      <th>carbohydrates_100g</th>\n",
       "      <th>proteins_100g</th>\n",
       "      <th>salt_100g</th>\n",
       "      <th>sugars_100g</th>\n",
       "      <th>saturated-fat_100g</th>\n",
       "    </tr>\n",
       "    <tr>\n",
       "      <th>label_kmean6</th>\n",
       "      <th></th>\n",
       "      <th></th>\n",
       "      <th></th>\n",
       "      <th></th>\n",
       "      <th></th>\n",
       "      <th></th>\n",
       "      <th></th>\n",
       "    </tr>\n",
       "  </thead>\n",
       "  <tbody>\n",
       "    <tr>\n",
       "      <th>0</th>\n",
       "      <td>4.076720</td>\n",
       "      <td>409.391643</td>\n",
       "      <td>11.333765</td>\n",
       "      <td>3.358282</td>\n",
       "      <td>0.691231</td>\n",
       "      <td>6.291774</td>\n",
       "      <td>1.418234</td>\n",
       "    </tr>\n",
       "    <tr>\n",
       "      <th>1</th>\n",
       "      <td>18.296881</td>\n",
       "      <td>1828.822786</td>\n",
       "      <td>61.981718</td>\n",
       "      <td>5.114162</td>\n",
       "      <td>0.378045</td>\n",
       "      <td>46.109486</td>\n",
       "      <td>9.378549</td>\n",
       "    </tr>\n",
       "    <tr>\n",
       "      <th>2</th>\n",
       "      <td>6.617091</td>\n",
       "      <td>680.218182</td>\n",
       "      <td>18.739091</td>\n",
       "      <td>6.077755</td>\n",
       "      <td>60.820276</td>\n",
       "      <td>5.406364</td>\n",
       "      <td>3.388118</td>\n",
       "    </tr>\n",
       "    <tr>\n",
       "      <th>3</th>\n",
       "      <td>10.804742</td>\n",
       "      <td>1599.997777</td>\n",
       "      <td>61.587953</td>\n",
       "      <td>8.968271</td>\n",
       "      <td>1.082128</td>\n",
       "      <td>7.429802</td>\n",
       "      <td>2.737664</td>\n",
       "    </tr>\n",
       "    <tr>\n",
       "      <th>4</th>\n",
       "      <td>63.171984</td>\n",
       "      <td>2563.395542</td>\n",
       "      <td>9.969514</td>\n",
       "      <td>3.783014</td>\n",
       "      <td>0.667686</td>\n",
       "      <td>6.107178</td>\n",
       "      <td>24.147941</td>\n",
       "    </tr>\n",
       "    <tr>\n",
       "      <th>5</th>\n",
       "      <td>18.941863</td>\n",
       "      <td>1132.448043</td>\n",
       "      <td>5.079982</td>\n",
       "      <td>19.882852</td>\n",
       "      <td>1.793382</td>\n",
       "      <td>1.682471</td>\n",
       "      <td>7.963172</td>\n",
       "    </tr>\n",
       "  </tbody>\n",
       "</table>\n",
       "</div>"
      ],
      "text/plain": [
       "               fat_100g  energy_100g  carbohydrates_100g  proteins_100g  \\\n",
       "label_kmean6                                                              \n",
       "0              4.076720   409.391643           11.333765       3.358282   \n",
       "1             18.296881  1828.822786           61.981718       5.114162   \n",
       "2              6.617091   680.218182           18.739091       6.077755   \n",
       "3             10.804742  1599.997777           61.587953       8.968271   \n",
       "4             63.171984  2563.395542            9.969514       3.783014   \n",
       "5             18.941863  1132.448043            5.079982      19.882852   \n",
       "\n",
       "              salt_100g  sugars_100g  saturated-fat_100g  \n",
       "label_kmean6                                              \n",
       "0              0.691231     6.291774            1.418234  \n",
       "1              0.378045    46.109486            9.378549  \n",
       "2             60.820276     5.406364            3.388118  \n",
       "3              1.082128     7.429802            2.737664  \n",
       "4              0.667686     6.107178           24.147941  \n",
       "5              1.793382     1.682471            7.963172  "
      ]
     },
     "execution_count": 303,
     "metadata": {},
     "output_type": "execute_result"
    }
   ],
   "source": [
    "df.groupby(\"label_kmean6\")[nutri_features].mean()"
   ]
  },
  {
   "cell_type": "code",
   "execution_count": 304,
   "id": "7e91d861",
   "metadata": {
    "ExecuteTime": {
     "end_time": "2023-05-30T14:24:55.547195548Z",
     "start_time": "2023-05-30T14:24:55.242512534Z"
    }
   },
   "outputs": [
    {
     "data": {
      "text/plain": [
       "Text(0.5, 1.0, 'Comparison of nutrients per cluster (k-means)')"
      ]
     },
     "execution_count": 304,
     "metadata": {},
     "output_type": "execute_result"
    },
    {
     "data": {
      "image/png": "[encoded data removed]",
      "text/plain": [
       "<Figure size 576x396 with 1 Axes>"
      ]
     },
     "metadata": {},
     "output_type": "display_data"
    }
   ],
   "source": [
    "nutri_features_no_energy = [\"fat_100g\", \"carbohydrates_100g\", \"proteins_100g\", \"salt_100g\", \"sugars_100g\", \"saturated-fat_100g\"]\n",
    "df.groupby(\"label_kmean6\")[nutri_features_no_energy].mean().plot(kind=\"bar\")\n",
    "plt.ylabel(\"Grams\")\n",
    "plt.title(\"Comparison of nutrients per cluster (k-means)\")"
   ]
  },
  {
   "cell_type": "markdown",
   "id": "da830ff0",
   "metadata": {},
   "source": [
    "<br>\n",
    "\n",
    "<font size=\"3\">HBDscan</font>\n",
    "<br>\n",
    "following this tutorial\n",
    "https://hdbscan.readthedocs.io/en/latest/how_hdbscan_works.html\n",
    "<br>"
   ]
  },
  {
   "cell_type": "code",
   "execution_count": 305,
   "id": "12029d00",
   "metadata": {
    "ExecuteTime": {
     "end_time": "2023-05-30T14:20:46.247241761Z",
     "start_time": "2023-05-30T14:20:27.277183948Z"
    }
   },
   "outputs": [
    {
     "name": "stdout",
     "output_type": "stream",
     "text": [
      "0.09455408843161352\n",
      "(array([-1,  0,  1,  2,  3], dtype=int64), array([19641,  2367,   965,  1534, 12225], dtype=int64))\n"
     ]
    }
   ],
   "source": [
    "# HDBSCAN returns 5 clusters (1 is the outlier cluster)\n",
    "labels = hdbscan.HDBSCAN(min_cluster_size=500).fit_predict(cluster_data)\n",
    "df[\"label_hdbscan\"] = labels\n",
    "print(silhouette_score(cluster_data, labels))\n",
    "print(np.unique(labels, return_counts=True))\n",
    "# HDBSCAN returns 5 clusters (1 is the outlier cluster)"
   ]
  },
  {
   "cell_type": "code",
   "execution_count": 306,
   "id": "a9c41cf5",
   "metadata": {
    "ExecuteTime": {
     "end_time": "2023-05-30T14:20:46.247718276Z",
     "start_time": "2023-05-30T14:20:46.236490420Z"
    }
   },
   "outputs": [
    {
     "data": {
      "text/html": [
       "<div>\n",
       "<style scoped>\n",
       "    .dataframe tbody tr th:only-of-type {\n",
       "        vertical-align: middle;\n",
       "    }\n",
       "\n",
       "    .dataframe tbody tr th {\n",
       "        vertical-align: top;\n",
       "    }\n",
       "\n",
       "    .dataframe thead th {\n",
       "        text-align: right;\n",
       "    }\n",
       "</style>\n",
       "<table border=\"1\" class=\"dataframe\">\n",
       "  <thead>\n",
       "    <tr style=\"text-align: right;\">\n",
       "      <th></th>\n",
       "      <th>fat_100g</th>\n",
       "      <th>energy_100g</th>\n",
       "      <th>carbohydrates_100g</th>\n",
       "      <th>proteins_100g</th>\n",
       "      <th>salt_100g</th>\n",
       "      <th>sugars_100g</th>\n",
       "      <th>saturated-fat_100g</th>\n",
       "    </tr>\n",
       "    <tr>\n",
       "      <th>label_hdbscan</th>\n",
       "      <th></th>\n",
       "      <th></th>\n",
       "      <th></th>\n",
       "      <th></th>\n",
       "      <th></th>\n",
       "      <th></th>\n",
       "      <th></th>\n",
       "    </tr>\n",
       "  </thead>\n",
       "  <tbody>\n",
       "    <tr>\n",
       "      <th>-1</th>\n",
       "      <td>19.701298</td>\n",
       "      <td>1451.741055</td>\n",
       "      <td>33.054888</td>\n",
       "      <td>9.334565</td>\n",
       "      <td>1.568541</td>\n",
       "      <td>15.713434</td>\n",
       "      <td>7.565335</td>\n",
       "    </tr>\n",
       "    <tr>\n",
       "      <th>0</th>\n",
       "      <td>24.627398</td>\n",
       "      <td>2078.909962</td>\n",
       "      <td>60.650885</td>\n",
       "      <td>6.592374</td>\n",
       "      <td>0.477862</td>\n",
       "      <td>36.901073</td>\n",
       "      <td>13.317362</td>\n",
       "    </tr>\n",
       "    <tr>\n",
       "      <th>1</th>\n",
       "      <td>3.464048</td>\n",
       "      <td>499.518891</td>\n",
       "      <td>0.937807</td>\n",
       "      <td>20.888187</td>\n",
       "      <td>1.718062</td>\n",
       "      <td>0.690802</td>\n",
       "      <td>1.194923</td>\n",
       "    </tr>\n",
       "    <tr>\n",
       "      <th>2</th>\n",
       "      <td>2.159263</td>\n",
       "      <td>1517.486708</td>\n",
       "      <td>71.915319</td>\n",
       "      <td>11.269759</td>\n",
       "      <td>0.161026</td>\n",
       "      <td>2.555250</td>\n",
       "      <td>0.445226</td>\n",
       "    </tr>\n",
       "    <tr>\n",
       "      <th>3</th>\n",
       "      <td>2.273605</td>\n",
       "      <td>324.339469</td>\n",
       "      <td>10.597119</td>\n",
       "      <td>2.995023</td>\n",
       "      <td>0.435861</td>\n",
       "      <td>5.694909</td>\n",
       "      <td>0.839143</td>\n",
       "    </tr>\n",
       "  </tbody>\n",
       "</table>\n",
       "</div>"
      ],
      "text/plain": [
       "                fat_100g  energy_100g  carbohydrates_100g  proteins_100g  \\\n",
       "label_hdbscan                                                              \n",
       "-1             19.701298  1451.741055           33.054888       9.334565   \n",
       " 0             24.627398  2078.909962           60.650885       6.592374   \n",
       " 1              3.464048   499.518891            0.937807      20.888187   \n",
       " 2              2.159263  1517.486708           71.915319      11.269759   \n",
       " 3              2.273605   324.339469           10.597119       2.995023   \n",
       "\n",
       "               salt_100g  sugars_100g  saturated-fat_100g  \n",
       "label_hdbscan                                              \n",
       "-1              1.568541    15.713434            7.565335  \n",
       " 0              0.477862    36.901073           13.317362  \n",
       " 1              1.718062     0.690802            1.194923  \n",
       " 2              0.161026     2.555250            0.445226  \n",
       " 3              0.435861     5.694909            0.839143  "
      ]
     },
     "execution_count": 306,
     "metadata": {},
     "output_type": "execute_result"
    }
   ],
   "source": [
    "df.groupby(\"label_hdbscan\")[nutri_features].mean()"
   ]
  },
  {
   "cell_type": "code",
   "execution_count": 307,
   "id": "b547d699",
   "metadata": {
    "ExecuteTime": {
     "end_time": "2023-05-30T14:24:55.803602641Z",
     "start_time": "2023-05-30T14:24:55.553298287Z"
    }
   },
   "outputs": [
    {
     "data": {
      "text/plain": [
       "Text(0.5, 1.0, 'Comparison of nutrients per cluster (hdbscan)')"
      ]
     },
     "execution_count": 307,
     "metadata": {},
     "output_type": "execute_result"
    },
    {
     "data": {
      "image/png": "[encoded data removed]",
      "text/plain": [
       "<Figure size 576x396 with 1 Axes>"
      ]
     },
     "metadata": {},
     "output_type": "display_data"
    }
   ],
   "source": [
    "nutri_features_no_energy = [\"fat_100g\", \"carbohydrates_100g\", \"proteins_100g\", \"salt_100g\", \"sugars_100g\", \"saturated-fat_100g\"]\n",
    "df.groupby(\"label_hdbscan\")[nutri_features_no_energy].mean().plot(kind=\"bar\")\n",
    "plt.ylabel(\"Grams\")\n",
    "plt.title(\"Comparison of nutrients per cluster (hdbscan)\")"
   ]
  },
  {
   "cell_type": "code",
   "execution_count": 312,
   "id": "aa28c1a4",
   "metadata": {},
   "outputs": [
    {
     "data": {
      "image/png": "[encoded data removed]",
      "text/plain": [
       "<Figure size 576x396 with 1 Axes>"
      ]
     },
     "metadata": {},
     "output_type": "display_data"
    }
   ],
   "source": [
    "##6 clusters are chosen as they are 6 in the dataset reduced for the nutrition data\n",
    "plot_clusters(cluster_data, hdbscan.HDBSCAN, (), {'min_cluster_size':6})"
   ]
  },
  {
   "cell_type": "markdown",
   "id": "000e703e",
   "metadata": {},
   "source": [
    "<br>\n",
    "\n",
    "<font size=\"3\"> CURE</font>\n",
    "\n",
    "<br>"
   ]
  },
  {
   "cell_type": "code",
   "execution_count": 308,
   "id": "e2824e4a",
   "metadata": {
    "ExecuteTime": {
     "end_time": "2023-05-30T14:24:55.189893314Z",
     "start_time": "2023-05-30T14:20:46.236846707Z"
    }
   },
   "outputs": [],
   "source": [
    "###ussing the cure clustering algorithm\n",
    "cure_instance = cure(cluster_data, 6)\n",
    "cure_instance.process()\n",
    "clusters = cure_instance.get_clusters()"
   ]
  },
  {
   "cell_type": "code",
   "execution_count": 323,
   "id": "a21203b2",
   "metadata": {},
   "outputs": [
    {
     "data": {
      "text/html": [
       "<style>#sk-container-id-1 {color: black;background-color: white;}#sk-container-id-1 pre{padding: 0;}#sk-container-id-1 div.sk-toggleable {background-color: white;}#sk-container-id-1 label.sk-toggleable__label {cursor: pointer;display: block;width: 100%;margin-bottom: 0;padding: 0.3em;box-sizing: border-box;text-align: center;}#sk-container-id-1 label.sk-toggleable__label-arrow:before {content: \"▸\";float: left;margin-right: 0.25em;color: #696969;}#sk-container-id-1 label.sk-toggleable__label-arrow:hover:before {color: black;}#sk-container-id-1 div.sk-estimator:hover label.sk-toggleable__label-arrow:before {color: black;}#sk-container-id-1 div.sk-toggleable__content {max-height: 0;max-width: 0;overflow: hidden;text-align: left;background-color: #f0f8ff;}#sk-container-id-1 div.sk-toggleable__content pre {margin: 0.2em;color: black;border-radius: 0.25em;background-color: #f0f8ff;}#sk-container-id-1 input.sk-toggleable__control:checked~div.sk-toggleable__content {max-height: 200px;max-width: 100%;overflow: auto;}#sk-container-id-1 input.sk-toggleable__control:checked~label.sk-toggleable__label-arrow:before {content: \"▾\";}#sk-container-id-1 div.sk-estimator input.sk-toggleable__control:checked~label.sk-toggleable__label {background-color: #d4ebff;}#sk-container-id-1 div.sk-label input.sk-toggleable__control:checked~label.sk-toggleable__label {background-color: #d4ebff;}#sk-container-id-1 input.sk-hidden--visually {border: 0;clip: rect(1px 1px 1px 1px);clip: rect(1px, 1px, 1px, 1px);height: 1px;margin: -1px;overflow: hidden;padding: 0;position: absolute;width: 1px;}#sk-container-id-1 div.sk-estimator {font-family: monospace;background-color: #f0f8ff;border: 1px dotted black;border-radius: 0.25em;box-sizing: border-box;margin-bottom: 0.5em;}#sk-container-id-1 div.sk-estimator:hover {background-color: #d4ebff;}#sk-container-id-1 div.sk-parallel-item::after {content: \"\";width: 100%;border-bottom: 1px solid gray;flex-grow: 1;}#sk-container-id-1 div.sk-label:hover label.sk-toggleable__label {background-color: #d4ebff;}#sk-container-id-1 div.sk-serial::before {content: \"\";position: absolute;border-left: 1px solid gray;box-sizing: border-box;top: 0;bottom: 0;left: 50%;z-index: 0;}#sk-container-id-1 div.sk-serial {display: flex;flex-direction: column;align-items: center;background-color: white;padding-right: 0.2em;padding-left: 0.2em;position: relative;}#sk-container-id-1 div.sk-item {position: relative;z-index: 1;}#sk-container-id-1 div.sk-parallel {display: flex;align-items: stretch;justify-content: center;background-color: white;position: relative;}#sk-container-id-1 div.sk-item::before, #sk-container-id-1 div.sk-parallel-item::before {content: \"\";position: absolute;border-left: 1px solid gray;box-sizing: border-box;top: 0;bottom: 0;left: 50%;z-index: -1;}#sk-container-id-1 div.sk-parallel-item {display: flex;flex-direction: column;z-index: 1;position: relative;background-color: white;}#sk-container-id-1 div.sk-parallel-item:first-child::after {align-self: flex-end;width: 50%;}#sk-container-id-1 div.sk-parallel-item:last-child::after {align-self: flex-start;width: 50%;}#sk-container-id-1 div.sk-parallel-item:only-child::after {width: 0;}#sk-container-id-1 div.sk-dashed-wrapped {border: 1px dashed gray;margin: 0 0.4em 0.5em 0.4em;box-sizing: border-box;padding-bottom: 0.4em;background-color: white;}#sk-container-id-1 div.sk-label label {font-family: monospace;font-weight: bold;display: inline-block;line-height: 1.2em;}#sk-container-id-1 div.sk-label-container {text-align: center;}#sk-container-id-1 div.sk-container {/* jupyter's `normalize.less` sets `[hidden] { display: none; }` but bootstrap.min.css set `[hidden] { display: none !important; }` so we also need the `!important` here to be able to override the default hidden behavior on the sphinx rendered scikit-learn.org. See: https://github.com/scikit-learn/scikit-learn/issues/21755 */display: inline-block !important;position: relative;}#sk-container-id-1 div.sk-text-repr-fallback {display: none;}</style><div id=\"sk-container-id-1\" class=\"sk-top-container\"><div class=\"sk-text-repr-fallback\"><pre>HDBSCAN(gen_min_span_tree=True, min_cluster_size=500)</pre><b>In a Jupyter environment, please rerun this cell to show the HTML representation or trust the notebook. <br />On GitHub, the HTML representation is unable to render, please try loading this page with nbviewer.org.</b></div><div class=\"sk-container\" hidden><div class=\"sk-item\"><div class=\"sk-estimator sk-toggleable\"><input class=\"sk-toggleable__control sk-hidden--visually\" id=\"sk-estimator-id-1\" type=\"checkbox\" checked><label for=\"sk-estimator-id-1\" class=\"sk-toggleable__label sk-toggleable__label-arrow\">HDBSCAN</label><div class=\"sk-toggleable__content\"><pre>HDBSCAN(gen_min_span_tree=True, min_cluster_size=500)</pre></div></div></div></div></div>"
      ],
      "text/plain": [
       "HDBSCAN(gen_min_span_tree=True, min_cluster_size=500)"
      ]
     },
     "execution_count": 323,
     "metadata": {},
     "output_type": "execute_result"
    }
   ],
   "source": [
    "clusterer = hdbscan.HDBSCAN(min_cluster_size=500, gen_min_span_tree=True)\n",
    "clusterer.fit(cluster_data)"
   ]
  },
  {
   "cell_type": "code",
   "execution_count": 324,
   "id": "ecdd60a8",
   "metadata": {},
   "outputs": [
    {
     "data": {
      "text/plain": [
       "<AxesSubplot:ylabel='$\\\\lambda$ value'>"
      ]
     },
     "execution_count": 324,
     "metadata": {},
     "output_type": "execute_result"
    },
    {
     "data": {
      "image/png": "[encoded data removed]",
      "text/plain": [
       "<Figure size 720x720 with 2 Axes>"
      ]
     },
     "metadata": {},
     "output_type": "display_data"
    }
   ],
   "source": [
    "###Condensing the cluster tree\n",
    "fig = plt.figure(figsize=(10,10))\n",
    "clusterer.condensed_tree_.plot()"
   ]
  },
  {
   "cell_type": "code",
   "execution_count": 325,
   "id": "5d9957ea",
   "metadata": {
    "scrolled": true
   },
   "outputs": [
    {
     "data": {
      "text/plain": [
       "<AxesSubplot:ylabel='$\\\\lambda$ value'>"
      ]
     },
     "execution_count": 325,
     "metadata": {},
     "output_type": "execute_result"
    },
    {
     "data": {
      "image/png": "[encoded data removed]",
      "text/plain": [
       "<Figure size 576x576 with 2 Axes>"
      ]
     },
     "metadata": {},
     "output_type": "display_data"
    }
   ],
   "source": [
    "#extracting the clusters\n",
    "fig = plt.figure(figsize=(8,8))\n",
    "clusterer.condensed_tree_.plot(select_clusters=True, selection_palette=sn.color_palette())"
   ]
  },
  {
   "cell_type": "code",
   "execution_count": 309,
   "id": "19d0b2f6",
   "metadata": {
    "ExecuteTime": {
     "end_time": "2023-05-30T14:24:55.236978062Z",
     "start_time": "2023-05-30T14:24:55.232591086Z"
    }
   },
   "outputs": [
    {
     "name": "stdout",
     "output_type": "stream",
     "text": [
      "92\n",
      "2\n",
      "36583\n",
      "27\n",
      "1\n",
      "27\n"
     ]
    }
   ],
   "source": [
    "# clusters with CURE have a very bad distribution, almost all data in cluster 2\n",
    "#we don't bother to analyse it\n",
    "labels = [-1 for i in range(len(df))]\n",
    "for i,cluster in enumerate(clusters):\n",
    "    print(len(cluster))\n",
    "    for j in cluster:\n",
    "        labels[j] = i\n"
   ]
  },
  {
   "cell_type": "code",
   "execution_count": 332,
   "id": "294ce7f8",
   "metadata": {},
   "outputs": [
    {
     "data": {
      "text/plain": [
       "Text(0.5, 1.0, 'Comparison of nutrients per cluster (CURE)')"
      ]
     },
     "execution_count": 332,
     "metadata": {},
     "output_type": "execute_result"
    },
    {
     "data": {
      "image/png": "[encoded data removed]",
      "text/plain": [
       "<Figure size 576x396 with 1 Axes>"
      ]
     },
     "metadata": {},
     "output_type": "display_data"
    }
   ],
   "source": [
    "nutri_features_no_energy = [\"fat_100g\", \"carbohydrates_100g\", \"proteins_100g\", \"salt_100g\", \"sugars_100g\", \"saturated-fat_100g\"]\n",
    "df.groupby(\"label_cure\")[nutri_features_no_energy].mean().plot(kind=\"bar\")\n",
    "plt.ylabel(\"Grams\")\n",
    "plt.title(\"Comparison of nutrients per cluster (CURE)\")"
   ]
  },
  {
   "cell_type": "code",
   "execution_count": 310,
   "id": "938eb48d",
   "metadata": {
    "ExecuteTime": {
     "end_time": "2023-05-30T14:24:55.237225690Z",
     "start_time": "2023-05-30T14:24:55.233281121Z"
    }
   },
   "outputs": [],
   "source": [
    "df[\"label_cure\"] = labels"
   ]
  },
  {
   "cell_type": "code",
   "execution_count": 311,
   "id": "5d0aa011",
   "metadata": {
    "ExecuteTime": {
     "end_time": "2023-05-30T14:24:55.240700399Z",
     "start_time": "2023-05-30T14:24:55.233724534Z"
    }
   },
   "outputs": [
    {
     "data": {
      "text/html": [
       "<div>\n",
       "<style scoped>\n",
       "    .dataframe tbody tr th:only-of-type {\n",
       "        vertical-align: middle;\n",
       "    }\n",
       "\n",
       "    .dataframe tbody tr th {\n",
       "        vertical-align: top;\n",
       "    }\n",
       "\n",
       "    .dataframe thead th {\n",
       "        text-align: right;\n",
       "    }\n",
       "</style>\n",
       "<table border=\"1\" class=\"dataframe\">\n",
       "  <thead>\n",
       "    <tr style=\"text-align: right;\">\n",
       "      <th></th>\n",
       "      <th>creator</th>\n",
       "      <th>countries_en</th>\n",
       "      <th>brands</th>\n",
       "      <th>main_category_en</th>\n",
       "      <th>packaging</th>\n",
       "      <th>fat_100g</th>\n",
       "      <th>energy_100g</th>\n",
       "      <th>carbohydrates_100g</th>\n",
       "      <th>proteins_100g</th>\n",
       "      <th>salt_100g</th>\n",
       "      <th>sugars_100g</th>\n",
       "      <th>saturated-fat_100g</th>\n",
       "      <th>has_image</th>\n",
       "      <th>label_kmean6</th>\n",
       "      <th>label_hdbscan</th>\n",
       "      <th>label_cure</th>\n",
       "    </tr>\n",
       "  </thead>\n",
       "  <tbody>\n",
       "    <tr>\n",
       "      <th>10</th>\n",
       "      <td>tacinte</td>\n",
       "      <td>United Kingdom</td>\n",
       "      <td>Asda,Asda Extra Special</td>\n",
       "      <td>Desserts</td>\n",
       "      <td>plastic,bowl</td>\n",
       "      <td>7.0</td>\n",
       "      <td>1284.0</td>\n",
       "      <td>54.2</td>\n",
       "      <td>3.9</td>\n",
       "      <td>0.200000</td>\n",
       "      <td>44.0</td>\n",
       "      <td>3.6</td>\n",
       "      <td>False</td>\n",
       "      <td>1</td>\n",
       "      <td>-1</td>\n",
       "      <td>2</td>\n",
       "    </tr>\n",
       "    <tr>\n",
       "      <th>11</th>\n",
       "      <td>tacinte</td>\n",
       "      <td>United Kingdom</td>\n",
       "      <td>Asda,Asda Extra Special</td>\n",
       "      <td>Sugary snacks</td>\n",
       "      <td>plastic,bowl</td>\n",
       "      <td>7.0</td>\n",
       "      <td>1284.0</td>\n",
       "      <td>54.2</td>\n",
       "      <td>3.9</td>\n",
       "      <td>0.199898</td>\n",
       "      <td>44.0</td>\n",
       "      <td>3.6</td>\n",
       "      <td>False</td>\n",
       "      <td>1</td>\n",
       "      <td>-1</td>\n",
       "      <td>2</td>\n",
       "    </tr>\n",
       "    <tr>\n",
       "      <th>13</th>\n",
       "      <td>andre</td>\n",
       "      <td>France</td>\n",
       "      <td>Pepsi</td>\n",
       "      <td>Beverages</td>\n",
       "      <td>Canette aluminium</td>\n",
       "      <td>0.0</td>\n",
       "      <td>177.0</td>\n",
       "      <td>10.4</td>\n",
       "      <td>0.0</td>\n",
       "      <td>0.025400</td>\n",
       "      <td>10.4</td>\n",
       "      <td>0.0</td>\n",
       "      <td>False</td>\n",
       "      <td>0</td>\n",
       "      <td>3</td>\n",
       "      <td>2</td>\n",
       "    </tr>\n",
       "    <tr>\n",
       "      <th>16</th>\n",
       "      <td>tacite</td>\n",
       "      <td>France</td>\n",
       "      <td>7Up,Pepsico</td>\n",
       "      <td>Beverages</td>\n",
       "      <td>Canette</td>\n",
       "      <td>0.0</td>\n",
       "      <td>177.0</td>\n",
       "      <td>10.4</td>\n",
       "      <td>0.0</td>\n",
       "      <td>0.100000</td>\n",
       "      <td>10.4</td>\n",
       "      <td>0.0</td>\n",
       "      <td>False</td>\n",
       "      <td>0</td>\n",
       "      <td>3</td>\n",
       "      <td>2</td>\n",
       "    </tr>\n",
       "    <tr>\n",
       "      <th>24</th>\n",
       "      <td>malikele</td>\n",
       "      <td>Germany</td>\n",
       "      <td>Candy Crush</td>\n",
       "      <td>Sugary snacks</td>\n",
       "      <td>None</td>\n",
       "      <td>0.0</td>\n",
       "      <td>1360.0</td>\n",
       "      <td>75.0</td>\n",
       "      <td>5.0</td>\n",
       "      <td>0.127000</td>\n",
       "      <td>57.5</td>\n",
       "      <td>0.0</td>\n",
       "      <td>False</td>\n",
       "      <td>1</td>\n",
       "      <td>-1</td>\n",
       "      <td>2</td>\n",
       "    </tr>\n",
       "    <tr>\n",
       "      <th>...</th>\n",
       "      <td>...</td>\n",
       "      <td>...</td>\n",
       "      <td>...</td>\n",
       "      <td>...</td>\n",
       "      <td>...</td>\n",
       "      <td>...</td>\n",
       "      <td>...</td>\n",
       "      <td>...</td>\n",
       "      <td>...</td>\n",
       "      <td>...</td>\n",
       "      <td>...</td>\n",
       "      <td>...</td>\n",
       "      <td>...</td>\n",
       "      <td>...</td>\n",
       "      <td>...</td>\n",
       "      <td>...</td>\n",
       "    </tr>\n",
       "    <tr>\n",
       "      <th>78207</th>\n",
       "      <td>kyzh</td>\n",
       "      <td>United Kingdom</td>\n",
       "      <td>princes</td>\n",
       "      <td>Tuna-chunks</td>\n",
       "      <td>canned</td>\n",
       "      <td>0.5</td>\n",
       "      <td>444.0</td>\n",
       "      <td>0.0</td>\n",
       "      <td>25.0</td>\n",
       "      <td>0.762000</td>\n",
       "      <td>0.0</td>\n",
       "      <td>0.0</td>\n",
       "      <td>False</td>\n",
       "      <td>5</td>\n",
       "      <td>-1</td>\n",
       "      <td>2</td>\n",
       "    </tr>\n",
       "    <tr>\n",
       "      <th>78209</th>\n",
       "      <td>tacinte</td>\n",
       "      <td>United Kingdom</td>\n",
       "      <td>Newman's Own</td>\n",
       "      <td>Groceries</td>\n",
       "      <td>Glass,Bottle</td>\n",
       "      <td>53.3</td>\n",
       "      <td>2111.0</td>\n",
       "      <td>6.4</td>\n",
       "      <td>1.7</td>\n",
       "      <td>1.750060</td>\n",
       "      <td>5.3</td>\n",
       "      <td>3.8</td>\n",
       "      <td>False</td>\n",
       "      <td>4</td>\n",
       "      <td>-1</td>\n",
       "      <td>2</td>\n",
       "    </tr>\n",
       "    <tr>\n",
       "      <th>78210</th>\n",
       "      <td>tacinte</td>\n",
       "      <td>United Kingdom</td>\n",
       "      <td>Newman's Own</td>\n",
       "      <td>Groceries</td>\n",
       "      <td>Glass,Bottle</td>\n",
       "      <td>6.9</td>\n",
       "      <td>660.0</td>\n",
       "      <td>23.1</td>\n",
       "      <td>0.3</td>\n",
       "      <td>0.541020</td>\n",
       "      <td>16.7</td>\n",
       "      <td>0.5</td>\n",
       "      <td>False</td>\n",
       "      <td>0</td>\n",
       "      <td>-1</td>\n",
       "      <td>2</td>\n",
       "    </tr>\n",
       "    <tr>\n",
       "      <th>78235</th>\n",
       "      <td>drmalabar</td>\n",
       "      <td>France</td>\n",
       "      <td>Le Pain des fleurs</td>\n",
       "      <td>Plant-based foods and beverages</td>\n",
       "      <td>Boîte,Carton,Sachet,Plastique</td>\n",
       "      <td>2.8</td>\n",
       "      <td>1643.0</td>\n",
       "      <td>74.8</td>\n",
       "      <td>13.0</td>\n",
       "      <td>0.680000</td>\n",
       "      <td>2.6</td>\n",
       "      <td>0.6</td>\n",
       "      <td>False</td>\n",
       "      <td>3</td>\n",
       "      <td>2</td>\n",
       "      <td>2</td>\n",
       "    </tr>\n",
       "    <tr>\n",
       "      <th>78242</th>\n",
       "      <td>balooval</td>\n",
       "      <td>France</td>\n",
       "      <td>Lobodis</td>\n",
       "      <td>Beverages</td>\n",
       "      <td>boîte,carton</td>\n",
       "      <td>0.2</td>\n",
       "      <td>21.0</td>\n",
       "      <td>0.5</td>\n",
       "      <td>0.5</td>\n",
       "      <td>0.025400</td>\n",
       "      <td>0.5</td>\n",
       "      <td>0.2</td>\n",
       "      <td>False</td>\n",
       "      <td>0</td>\n",
       "      <td>3</td>\n",
       "      <td>2</td>\n",
       "    </tr>\n",
       "  </tbody>\n",
       "</table>\n",
       "<p>36732 rows × 16 columns</p>\n",
       "</div>"
      ],
      "text/plain": [
       "         creator    countries_en                   brands  \\\n",
       "10       tacinte  United Kingdom  Asda,Asda Extra Special   \n",
       "11       tacinte  United Kingdom  Asda,Asda Extra Special   \n",
       "13         andre          France                    Pepsi   \n",
       "16        tacite          France              7Up,Pepsico   \n",
       "24      malikele         Germany              Candy Crush   \n",
       "...          ...             ...                      ...   \n",
       "78207       kyzh  United Kingdom                  princes   \n",
       "78209    tacinte  United Kingdom             Newman's Own   \n",
       "78210    tacinte  United Kingdom             Newman's Own   \n",
       "78235  drmalabar          France       Le Pain des fleurs   \n",
       "78242   balooval          France                  Lobodis   \n",
       "\n",
       "                      main_category_en                      packaging  \\\n",
       "10                            Desserts                   plastic,bowl   \n",
       "11                       Sugary snacks                   plastic,bowl   \n",
       "13                           Beverages              Canette aluminium   \n",
       "16                           Beverages                        Canette   \n",
       "24                       Sugary snacks                           None   \n",
       "...                                ...                            ...   \n",
       "78207                      Tuna-chunks                         canned   \n",
       "78209                        Groceries                   Glass,Bottle   \n",
       "78210                        Groceries                   Glass,Bottle   \n",
       "78235  Plant-based foods and beverages  Boîte,Carton,Sachet,Plastique   \n",
       "78242                        Beverages                   boîte,carton   \n",
       "\n",
       "       fat_100g  energy_100g  carbohydrates_100g  proteins_100g  salt_100g  \\\n",
       "10          7.0       1284.0                54.2            3.9   0.200000   \n",
       "11          7.0       1284.0                54.2            3.9   0.199898   \n",
       "13          0.0        177.0                10.4            0.0   0.025400   \n",
       "16          0.0        177.0                10.4            0.0   0.100000   \n",
       "24          0.0       1360.0                75.0            5.0   0.127000   \n",
       "...         ...          ...                 ...            ...        ...   \n",
       "78207       0.5        444.0                 0.0           25.0   0.762000   \n",
       "78209      53.3       2111.0                 6.4            1.7   1.750060   \n",
       "78210       6.9        660.0                23.1            0.3   0.541020   \n",
       "78235       2.8       1643.0                74.8           13.0   0.680000   \n",
       "78242       0.2         21.0                 0.5            0.5   0.025400   \n",
       "\n",
       "       sugars_100g  saturated-fat_100g  has_image  label_kmean6  \\\n",
       "10            44.0                 3.6      False             1   \n",
       "11            44.0                 3.6      False             1   \n",
       "13            10.4                 0.0      False             0   \n",
       "16            10.4                 0.0      False             0   \n",
       "24            57.5                 0.0      False             1   \n",
       "...            ...                 ...        ...           ...   \n",
       "78207          0.0                 0.0      False             5   \n",
       "78209          5.3                 3.8      False             4   \n",
       "78210         16.7                 0.5      False             0   \n",
       "78235          2.6                 0.6      False             3   \n",
       "78242          0.5                 0.2      False             0   \n",
       "\n",
       "       label_hdbscan  label_cure  \n",
       "10                -1           2  \n",
       "11                -1           2  \n",
       "13                 3           2  \n",
       "16                 3           2  \n",
       "24                -1           2  \n",
       "...              ...         ...  \n",
       "78207             -1           2  \n",
       "78209             -1           2  \n",
       "78210             -1           2  \n",
       "78235              2           2  \n",
       "78242              3           2  \n",
       "\n",
       "[36732 rows x 16 columns]"
      ]
     },
     "execution_count": 311,
     "metadata": {},
     "output_type": "execute_result"
    }
   ],
   "source": [
    "df"
   ]
  },
  {
   "cell_type": "markdown",
   "id": "6197ced8",
   "metadata": {
    "ExecuteTime": {
     "end_time": "2023-05-30T14:53:29.387239730Z",
     "start_time": "2023-05-30T14:53:29.374793433Z"
    }
   },
   "source": [
    "We continue with some more in depth analysis on k-means since it has a significantly higher silhouette score"
   ]
  },
  {
   "cell_type": "code",
   "execution_count": 314,
   "id": "b9b20e27",
   "metadata": {
    "ExecuteTime": {
     "end_time": "2023-05-30T14:26:20.743310055Z",
     "start_time": "2023-05-30T14:26:20.590236501Z"
    }
   },
   "outputs": [
    {
     "data": {
      "text/plain": [
       "Text(0.5, 1.0, 'Comparison of energy per cluster (k-means)')"
      ]
     },
     "execution_count": 314,
     "metadata": {},
     "output_type": "execute_result"
    },
    {
     "data": {
      "image/png": "[encoded data removed]",
      "text/plain": [
       "<Figure size 576x396 with 1 Axes>"
      ]
     },
     "metadata": {},
     "output_type": "display_data"
    }
   ],
   "source": [
    "df.groupby(\"label_kmean6\")[\"energy_100g\"].mean().plot(kind=\"bar\")\n",
    "plt.ylabel(\"Energy 100g\")\n",
    "plt.title(\"Comparison of energy per cluster (k-means)\")"
   ]
  },
  {
   "cell_type": "code",
   "execution_count": 315,
   "id": "a7c21512",
   "metadata": {
    "ExecuteTime": {
     "end_time": "2023-05-30T14:26:43.986510798Z",
     "start_time": "2023-05-30T14:26:43.822934764Z"
    }
   },
   "outputs": [
    {
     "data": {
      "text/plain": [
       "Text(0.5, 1.0, 'Comparison of energy per cluster (HDBSCAN)')"
      ]
     },
     "execution_count": 315,
     "metadata": {},
     "output_type": "execute_result"
    },
    {
     "data": {
      "image/png": "[encoded data removed]",
      "text/plain": [
       "<Figure size 576x396 with 1 Axes>"
      ]
     },
     "metadata": {},
     "output_type": "display_data"
    }
   ],
   "source": [
    "df.groupby(\"label_hdbscan\")[\"energy_100g\"].mean().plot(kind=\"bar\")\n",
    "plt.ylabel(\"Energy 100g\")\n",
    "plt.title(\"Comparison of energy per cluster (HDBSCAN)\")"
   ]
  },
  {
   "cell_type": "code",
   "execution_count": 328,
   "id": "6e001c17",
   "metadata": {
    "ExecuteTime": {
     "end_time": "2023-05-30T14:52:25.114066141Z",
     "start_time": "2023-05-30T14:52:24.690599155Z"
    }
   },
   "outputs": [
    {
     "data": {
      "text/plain": [
       "Text(0.5, 1.0, 'Top 10 countries distribution per cluster (normalized)')"
      ]
     },
     "execution_count": 328,
     "metadata": {},
     "output_type": "execute_result"
    },
    {
     "data": {
      "text/plain": [
       "<Figure size 1296x1296 with 0 Axes>"
      ]
     },
     "metadata": {},
     "output_type": "display_data"
    },
    {
     "data": {
      "image/png": "[encoded data removed]",
      "text/plain": [
       "<Figure size 467.5x360 with 1 Axes>"
      ]
     },
     "metadata": {},
     "output_type": "display_data"
    }
   ],
   "source": [
    "x,y = 'label_kmean6', 'countries_en'\n",
    "df1 = df[df[\"countries_en\"].isin(top_countries)]\n",
    "df1 = df1.groupby(x)[y].value_counts(normalize=True)\n",
    "df1 = df1.mul(100)\n",
    "df1 = df1.rename('percent').reset_index()\n",
    "\n",
    "g = sns.catplot(x=x,y='percent',hue=y,kind='bar',data=df1)\n",
    "g.ax.set_ylim(0,100)\n",
    "\n",
    "plt.title(\"Top 10 countries distribution per cluster (normalized)\")\n"
   ]
  },
  {
   "cell_type": "code",
   "execution_count": 317,
   "id": "517a133d",
   "metadata": {
    "ExecuteTime": {
     "end_time": "2023-05-30T14:52:34.069774291Z",
     "start_time": "2023-05-30T14:52:33.671421987Z"
    }
   },
   "outputs": [
    {
     "data": {
      "text/plain": [
       "Text(0.5, 1.0, 'Top 10 categories distribution per cluster (normalized)')"
      ]
     },
     "execution_count": 317,
     "metadata": {},
     "output_type": "execute_result"
    },
    {
     "data": {
      "image/png": "[encoded data removed]",
      "text/plain": [
       "<Figure size 546.5x360 with 1 Axes>"
      ]
     },
     "metadata": {},
     "output_type": "display_data"
    }
   ],
   "source": [
    "x,y = 'label_kmean6', 'main_category_en'\n",
    "\n",
    "df1 = df[df[\"main_category_en\"].isin(top_cat)]\n",
    "df1 = df1.groupby(x)[y].value_counts(normalize=True)\n",
    "df1 = df1.mul(100)\n",
    "df1 = df1.rename('percent').reset_index()\n",
    "\n",
    "g = sns.catplot(x=x,y='percent',hue=y,kind='bar',data=df1)\n",
    "g.ax.set_ylim(0,100)\n",
    "\n",
    "plt.title(\"Top 10 categories distribution per cluster (normalized)\")"
   ]
  },
  {
   "cell_type": "code",
   "execution_count": 318,
   "id": "f175be39",
   "metadata": {
    "ExecuteTime": {
     "end_time": "2023-05-30T15:02:42.831936932Z",
     "start_time": "2023-05-30T15:02:42.708740106Z"
    }
   },
   "outputs": [
    {
     "data": {
      "text/plain": [
       "Text(0.5, 1.0, '\"Has image\" per cluster')"
      ]
     },
     "execution_count": 318,
     "metadata": {},
     "output_type": "execute_result"
    },
    {
     "data": {
      "image/png": "[encoded data removed]",
      "text/plain": [
       "<Figure size 576x396 with 1 Axes>"
      ]
     },
     "metadata": {},
     "output_type": "display_data"
    }
   ],
   "source": [
    "df.groupby(\"label_kmean6\")[\"has_image\"].mean().plot(kind=\"bar\")\n",
    "plt.ylabel(\"Has image\")\n",
    "plt.title('\"Has image\" per cluster')"
   ]
  },
  {
   "cell_type": "markdown",
   "id": "6a0b45cf",
   "metadata": {},
   "source": [
    "<br>\n",
    "\n",
    "<font size=\"5\"> **4. Evaluation and Comparison of the performances of the model**</font>\n",
    "\n",
    "<br>"
   ]
  },
  {
   "cell_type": "markdown",
   "id": "43b2b120",
   "metadata": {},
   "source": [
    "https://hdbscan.readthedocs.io/en/latest/performance_and_scalability.html"
   ]
  }
 ],
 "metadata": {
  "kernelspec": {
   "display_name": "Python 3",
   "language": "python",
   "name": "python3"
  },
  "language_info": {
   "codemirror_mode": {
    "name": "ipython",
    "version": 3
   },
   "file_extension": ".py",
   "mimetype": "text/x-python",
   "name": "python",
   "nbconvert_exporter": "python",
   "pygments_lexer": "ipython3",
   "version": "3.8.8"
  }
 },
 "nbformat": 4,
 "nbformat_minor": 5
}
