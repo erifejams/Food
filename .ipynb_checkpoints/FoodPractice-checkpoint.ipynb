{
 "cells": [
  {
   "cell_type": "markdown",
   "id": "7efeba2d",
   "metadata": {},
   "source": [
    "Project Name: Food (Number 2) \n",
    "\n",
    "<br>\n",
    "Team Members: Erifeoluwa Jamgbadi and Yazdani Mehr Azin\n"
   ]
  },
  {
   "cell_type": "code",
   "execution_count": 3,
   "id": "4e5abde7",
   "metadata": {},
   "outputs": [],
   "source": [
    "## importing required libraries\n",
    "\n",
    "import numpy as np\n",
    "import pandas as pd\n",
    "from pathlib import Path\n",
    "import os\n"
   ]
  },
  {
   "cell_type": "markdown",
   "id": "b126aff8",
   "metadata": {},
   "source": [
    "<br>\n",
    "\n",
    "<font size=\"5\"> **Importing Dataset**</font>\n",
    "\n",
    "<br>"
   ]
  },
  {
   "cell_type": "code",
   "execution_count": 4,
   "id": "c3b2827f",
   "metadata": {},
   "outputs": [
    {
     "name": "stdout",
     "output_type": "stream",
     "text": [
      "C:\\Users\\SAMSUNG\\Documents\\GitHub\\Food\n"
     ]
    }
   ],
   "source": [
    "#Path to the target csv file. \n",
    "path = os.getcwd()\n",
    "print(path)"
   ]
  },
  {
   "cell_type": "markdown",
   "id": "8643cf22",
   "metadata": {},
   "source": [
    "<br>\n",
    "\n",
    "<font size=\"5\"> **Data Analysis Section**</font>\n",
    "\n",
    "<br>"
   ]
  },
  {
   "cell_type": "code",
   "execution_count": 9,
   "id": "a6dcd26a",
   "metadata": {},
   "outputs": [
    {
     "data": {
      "text/html": [
       "<div>\n",
       "<style scoped>\n",
       "    .dataframe tbody tr th:only-of-type {\n",
       "        vertical-align: middle;\n",
       "    }\n",
       "\n",
       "    .dataframe tbody tr th {\n",
       "        vertical-align: top;\n",
       "    }\n",
       "\n",
       "    .dataframe thead th {\n",
       "        text-align: right;\n",
       "    }\n",
       "</style>\n",
       "<table border=\"1\" class=\"dataframe\">\n",
       "  <thead>\n",
       "    <tr style=\"text-align: right;\">\n",
       "      <th></th>\n",
       "      <th>A28O3NP6WR5517</th>\n",
       "      <th>0188399313</th>\n",
       "      <th>5.0</th>\n",
       "      <th>1369612800</th>\n",
       "    </tr>\n",
       "  </thead>\n",
       "  <tbody>\n",
       "    <tr>\n",
       "      <th>0</th>\n",
       "      <td>AX0M1Z6ZWO52J</td>\n",
       "      <td>0188399399</td>\n",
       "      <td>5.0</td>\n",
       "      <td>1365465600</td>\n",
       "    </tr>\n",
       "    <tr>\n",
       "      <th>1</th>\n",
       "      <td>A1KD7N84L7NIUT</td>\n",
       "      <td>0188399518</td>\n",
       "      <td>4.0</td>\n",
       "      <td>1392336000</td>\n",
       "    </tr>\n",
       "    <tr>\n",
       "      <th>2</th>\n",
       "      <td>A29CUDEIF4X1UO</td>\n",
       "      <td>0188399518</td>\n",
       "      <td>3.0</td>\n",
       "      <td>1373241600</td>\n",
       "    </tr>\n",
       "    <tr>\n",
       "      <th>3</th>\n",
       "      <td>A32592TYN6C9EM</td>\n",
       "      <td>0316967297</td>\n",
       "      <td>4.0</td>\n",
       "      <td>1378425600</td>\n",
       "    </tr>\n",
       "    <tr>\n",
       "      <th>4</th>\n",
       "      <td>AA9X14MODL8XJ</td>\n",
       "      <td>0316967297</td>\n",
       "      <td>5.0</td>\n",
       "      <td>1363910400</td>\n",
       "    </tr>\n",
       "  </tbody>\n",
       "</table>\n",
       "</div>"
      ],
      "text/plain": [
       "   A28O3NP6WR5517  0188399313  5.0  1369612800\n",
       "0   AX0M1Z6ZWO52J  0188399399  5.0  1365465600\n",
       "1  A1KD7N84L7NIUT  0188399518  4.0  1392336000\n",
       "2  A29CUDEIF4X1UO  0188399518  3.0  1373241600\n",
       "3  A32592TYN6C9EM  0316967297  4.0  1378425600\n",
       "4   AA9X14MODL8XJ  0316967297  5.0  1363910400"
      ]
     },
     "execution_count": 9,
     "metadata": {},
     "output_type": "execute_result"
    }
   ],
   "source": [
    "data = pd.read_csv(path+'/dataset/ratings_Baby.csv')\n",
    "data.head()\n"
   ]
  },
  {
   "cell_type": "markdown",
   "id": "b26cb48e",
   "metadata": {},
   "source": [
    "<br>\n",
    "\n",
    "<font size=\"5\"> **Clustering Section**</font>\n",
    "\n",
    "<br>"
   ]
  },
  {
   "cell_type": "code",
   "execution_count": null,
   "id": "51dc95da",
   "metadata": {},
   "outputs": [],
   "source": []
  }
 ],
 "metadata": {
  "kernelspec": {
   "display_name": "Python 3",
   "language": "python",
   "name": "python3"
  },
  "language_info": {
   "codemirror_mode": {
    "name": "ipython",
    "version": 3
   },
   "file_extension": ".py",
   "mimetype": "text/x-python",
   "name": "python",
   "nbconvert_exporter": "python",
   "pygments_lexer": "ipython3",
   "version": "3.8.8"
  }
 },
 "nbformat": 4,
 "nbformat_minor": 5
}
